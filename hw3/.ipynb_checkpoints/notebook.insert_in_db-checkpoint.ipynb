{
 "cells": [
  {
   "cell_type": "markdown",
   "metadata": {},
   "source": [
    "### 1. Развернуть у себя на компьютере/виртуальной машине/хостинге MongoDB и реализовать функцию, записывающую собранные вакансии в созданную БД."
   ]
  },
  {
   "cell_type": "code",
   "execution_count": 1,
   "metadata": {},
   "outputs": [],
   "source": [
    "import pandas as pd\n",
    "from pymongo import MongoClient\n",
    "from pprint import pprint"
   ]
  },
  {
   "cell_type": "code",
   "execution_count": 2,
   "metadata": {},
   "outputs": [],
   "source": [
    "# Запускаем сессию \n",
    "client = MongoClient('127.0.0.1',27017)\n",
    "db = client['vacancies']\n",
    "vacs = db.vacancies"
   ]
  },
  {
   "cell_type": "code",
   "execution_count": 3,
   "metadata": {},
   "outputs": [],
   "source": [
    "# загружаем, чистим от повторов и хешируем скаченный ранее датафрейм:\n",
    "df = pd.read_csv('vacancies.csv', encoding='utf-8')\n",
    "df = df.drop_duplicates()\n",
    "df['_id'] = pd.util.hash_pandas_object(df, index=False).astype('str')"
   ]
  },
  {
   "cell_type": "markdown",
   "metadata": {},
   "source": [
    "<b>ВАЖНО!</b> \n",
    "Обязательно нужно отследить, чтобы все числовые значения соответствовали <a href='https://docs.mongodb.com/manual/reference/method/ObjectId/#ObjectId'> правилам БД</a>. Так как хешированный столбец не соответствует - я его преобразовал в строковое значение."
   ]
  },
  {
   "cell_type": "markdown",
   "metadata": {},
   "source": [
    "Данное решение не самое изящное. К примеру, есть возможность решить данную задачу при помощи <a href='http://odo.pydata.org/en/latest/overview.html'>ODO</a>. Также были интересные варианты в обсуждении на <a href='https://stackoverflow.com/questions/20167194/insert-a-pandas-dataframe-into-mongodb-using-pymongo'> стаке</a>.\n",
    "Однако я решил реализовать этот вариант, так как мне очень понравилась идея хешировать все данные из каждой вакансии, а ничего более \"питонического\" я не нашел. В промышленном варианте, конечно, проще всего реализовать проверку и включение вакансии в момент сбора информации (у меня это файлы HH_vac_block_parcer и sj_parcer)"
   ]
  },
  {
   "cell_type": "code",
   "execution_count": 4,
   "metadata": {},
   "outputs": [
    {
     "data": {
      "text/plain": [
       "<pymongo.results.InsertManyResult at 0x7fed4b0f8900>"
      ]
     },
     "execution_count": 4,
     "metadata": {},
     "output_type": "execute_result"
    }
   ],
   "source": [
    "# Загружаем данные в базу данных. \n",
    "vacs.insert_many(df.to_dict(orient='records'))"
   ]
  },
  {
   "cell_type": "markdown",
   "metadata": {},
   "source": [
    "### 2. Написать функцию, которая производит поиск и выводит на экран вакансии с заработной платой больше введённой суммы. Запрос должен анализировать одновременно минимальную и максимальную зарплату."
   ]
  },
  {
   "cell_type": "code",
   "execution_count": 5,
   "metadata": {},
   "outputs": [],
   "source": [
    "# поиск вакансий с заданным минимум зарплаты\n",
    "def vacs_with_salary_bigger_than(collection, salary_val):\n",
    "    return collection.find({'$or': [{'min_salary': {'$gte': salary_val},'currency':'руб.'},\n",
    "                              {'$and': [{'min_salary': {'$eq': None}},\n",
    "                                        {'max_salary': {'$gte': salary_val}},\n",
    "                                        {'currency':'руб.'}]}]})"
   ]
  },
  {
   "cell_type": "code",
   "execution_count": 6,
   "metadata": {},
   "outputs": [
    {
     "name": "stdout",
     "output_type": "stream",
     "text": [
      "Enter min. salary, rub: 300000\n"
     ]
    }
   ],
   "source": [
    "salary = float(input('Enter min. salary, rub: '))\n",
    "result = vacs_with_salary_bigger_than(vacs, salary)"
   ]
  },
  {
   "cell_type": "code",
   "execution_count": 7,
   "metadata": {},
   "outputs": [
    {
     "name": "stdout",
     "output_type": "stream",
     "text": [
      "{'_id': '17592752849445628710',\n",
      " 'currency': 'руб.',\n",
      " 'employer': 'ООО Знаменка Капитал',\n",
      " 'max_salary': 350000.0,\n",
      " 'min_salary': 300000.0,\n",
      " 'source': 'https://www.hh.ru',\n",
      " 'url': 'https://spb.hh.ru/vacancy/39103361?query=sql',\n",
      " 'vacancy': 'Team Lead (#C++, #Linux, #HPC)'}\n"
     ]
    }
   ],
   "source": [
    "for r in result:\n",
    "    pprint(r)"
   ]
  },
  {
   "cell_type": "markdown",
   "metadata": {},
   "source": [
    "<i><b>Примечание на будущее:</b> Можно усовершенствовать, сделав выбор валюты для запроса и/или пересчитывать из валюты по актуальному курсу в рубли</i>"
   ]
  },
  {
   "cell_type": "markdown",
   "metadata": {},
   "source": [
    "### 3. Написать функцию, которая будет добавлять в вашу базу данных только новые вакансии с сайта."
   ]
  },
  {
   "cell_type": "code",
   "execution_count": 8,
   "metadata": {},
   "outputs": [],
   "source": [
    "def check_vac(_id):\n",
    "    return vacs.find_one({'_id':_id}) is None"
   ]
  },
  {
   "cell_type": "code",
   "execution_count": 9,
   "metadata": {},
   "outputs": [
    {
     "data": {
      "text/plain": [
       "False"
      ]
     },
     "execution_count": 9,
     "metadata": {},
     "output_type": "execute_result"
    }
   ],
   "source": [
    "check_vac('1222032108778951480') is True"
   ]
  },
  {
   "cell_type": "code",
   "execution_count": 10,
   "metadata": {},
   "outputs": [
    {
     "data": {
      "text/plain": [
       "True"
      ]
     },
     "execution_count": 10,
     "metadata": {},
     "output_type": "execute_result"
    }
   ],
   "source": [
    "check_vac('1108778951480')is True"
   ]
  },
  {
   "cell_type": "code",
   "execution_count": 11,
   "metadata": {},
   "outputs": [],
   "source": [
    "client.close()"
   ]
  }
 ],
 "metadata": {
  "kernelspec": {
   "display_name": "Python 3",
   "language": "python",
   "name": "python3"
  },
  "language_info": {
   "codemirror_mode": {
    "name": "ipython",
    "version": 3
   },
   "file_extension": ".py",
   "mimetype": "text/x-python",
   "name": "python",
   "nbconvert_exporter": "python",
   "pygments_lexer": "ipython3",
   "version": "3.8.3"
  }
 },
 "nbformat": 4,
 "nbformat_minor": 4
}
