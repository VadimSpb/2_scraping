{
 "cells": [
  {
   "cell_type": "code",
   "execution_count": 1,
   "metadata": {},
   "outputs": [],
   "source": [
    "from getpage import getpage"
   ]
  },
  {
   "cell_type": "code",
   "execution_count": 28,
   "metadata": {},
   "outputs": [
    {
     "ename": "ImportError",
     "evalue": "cannot import name 'get_xpath' from 'getpage' (/Users/vadim/GoogleDrive/Learning/geekbrains/1_parcing/homeworks_2/hw4/getpage.py)",
     "output_type": "error",
     "traceback": [
      "\u001b[0;31m---------------------------------------------------------------------------\u001b[0m",
      "\u001b[0;31mImportError\u001b[0m                               Traceback (most recent call last)",
      "\u001b[0;32m<ipython-input-28-abf20d9dde4f>\u001b[0m in \u001b[0;36m<module>\u001b[0;34m\u001b[0m\n\u001b[0;32m----> 1\u001b[0;31m \u001b[0;32mfrom\u001b[0m \u001b[0mgetpage\u001b[0m \u001b[0;32mimport\u001b[0m \u001b[0mget_xpath\u001b[0m\u001b[0;34m\u001b[0m\u001b[0;34m\u001b[0m\u001b[0m\n\u001b[0m",
      "\u001b[0;31mImportError\u001b[0m: cannot import name 'get_xpath' from 'getpage' (/Users/vadim/GoogleDrive/Learning/geekbrains/1_parcing/homeworks_2/hw4/getpage.py)"
     ]
    }
   ],
   "source": [
    "from getpage import get_xpath"
   ]
  },
  {
   "cell_type": "code",
   "execution_count": 29,
   "metadata": {},
   "outputs": [],
   "source": [
    "from lxml import html\n",
    "def get_xpath(url):\n",
    "    '''get xpath object'''\n",
    "    responce = getpage(url)\n",
    "    dom = html.fromstring(responce.text)\n",
    "    return dom"
   ]
  },
  {
   "cell_type": "code",
   "execution_count": 23,
   "metadata": {},
   "outputs": [],
   "source": [
    "url = 'https://m.lenta.ru/2020/10/28/'"
   ]
  },
  {
   "cell_type": "code",
   "execution_count": 24,
   "metadata": {},
   "outputs": [],
   "source": [
    "dom = get_xpath(url)"
   ]
  },
  {
   "cell_type": "code",
   "execution_count": 25,
   "metadata": {},
   "outputs": [
    {
     "data": {
      "text/plain": [
       "<Element p at 0x7f8fb4415d60>"
      ]
     },
     "execution_count": 25,
     "metadata": {},
     "output_type": "execute_result"
    }
   ],
   "source": [
    "dom"
   ]
  },
  {
   "cell_type": "code",
   "execution_count": 27,
   "metadata": {},
   "outputs": [
    {
     "data": {
      "text/plain": [
       "[]"
      ]
     },
     "execution_count": 27,
     "metadata": {},
     "output_type": "execute_result"
    }
   ],
   "source": [
    "dom.xpath(\"//span[@class='time']/../../..\")"
   ]
  },
  {
   "cell_type": "code",
   "execution_count": null,
   "metadata": {},
   "outputs": [],
   "source": []
  },
  {
   "cell_type": "code",
   "execution_count": 103,
   "metadata": {},
   "outputs": [],
   "source": [
    "from pprint import pprint\n",
    "from lxml import html\n",
    "import requests\n",
    "\n",
    "header = {'User-Agent':'Mozilla/5.0 (Windows NT 10.0; Win64; x64) AppleWebKit/537.36 (KHTML, like Gecko) Chrome/86.0.4240.75 Safari/537.36'}\n"
   ]
  },
  {
   "cell_type": "code",
   "execution_count": 92,
   "metadata": {},
   "outputs": [],
   "source": [
    "from datetime import datetime, date, time"
   ]
  },
  {
   "cell_type": "code",
   "execution_count": 65,
   "metadata": {},
   "outputs": [],
   "source": [
    "domain = 'https://m.lenta.ru'"
   ]
  },
  {
   "cell_type": "code",
   "execution_count": 80,
   "metadata": {},
   "outputs": [
    {
     "data": {
      "text/plain": [
       "datetime.datetime(2020, 10, 28, 15, 58, 11, 635653)"
      ]
     },
     "execution_count": 80,
     "metadata": {},
     "output_type": "execute_result"
    }
   ],
   "source": [
    "date  = datetime.today()\n",
    "date"
   ]
  },
  {
   "cell_type": "code",
   "execution_count": 81,
   "metadata": {},
   "outputs": [
    {
     "data": {
      "text/plain": [
       "'https://m.lenta.ru/28/10/2020'"
      ]
     },
     "execution_count": 81,
     "metadata": {},
     "output_type": "execute_result"
    }
   ],
   "source": [
    "url = domain + date.strftime(\"/%d/%m/%Y/\")\n",
    "url"
   ]
  },
  {
   "cell_type": "code",
   "execution_count": 77,
   "metadata": {},
   "outputs": [
    {
     "data": {
      "text/plain": [
       "'28/10/2020'"
      ]
     },
     "execution_count": 77,
     "metadata": {},
     "output_type": "execute_result"
    }
   ],
   "source": []
  },
  {
   "cell_type": "code",
   "execution_count": 32,
   "metadata": {},
   "outputs": [],
   "source": [
    "response = requests.get(url,headers=header)\n",
    "dom = html.fromstring(response.text)"
   ]
  },
  {
   "cell_type": "code",
   "execution_count": 84,
   "metadata": {},
   "outputs": [],
   "source": [
    "import re\n",
    "\n",
    "def cleener(text):\n",
    "    return re.sub('\\xa0', ' ', text)"
   ]
  },
  {
   "cell_type": "code",
   "execution_count": 39,
   "metadata": {},
   "outputs": [],
   "source": [
    "news_dom = dom.xpath(\"//span[@class='time']/../../..\")"
   ]
  },
  {
   "cell_type": "code",
   "execution_count": 40,
   "metadata": {},
   "outputs": [
    {
     "data": {
      "text/plain": [
       "200"
      ]
     },
     "execution_count": 40,
     "metadata": {},
     "output_type": "execute_result"
    }
   ],
   "source": [
    "len(news_dom)"
   ]
  },
  {
   "cell_type": "code",
   "execution_count": null,
   "metadata": {},
   "outputs": [],
   "source": []
  },
  {
   "cell_type": "code",
   "execution_count": null,
   "metadata": {},
   "outputs": [],
   "source": []
  },
  {
   "cell_type": "code",
   "execution_count": null,
   "metadata": {},
   "outputs": [],
   "source": []
  },
  {
   "cell_type": "code",
   "execution_count": 62,
   "metadata": {},
   "outputs": [
    {
     "data": {
      "text/plain": [
       "'Павел Прилучный расстался с любовницей и захотел вернуться к бывшей жене'"
      ]
     },
     "execution_count": 62,
     "metadata": {},
     "output_type": "execute_result"
    }
   ],
   "source": [
    "item = news_dom[10]\n",
    "res = item.xpath(\".//span/text()\")[-1]\n",
    "res"
   ]
  },
  {
   "cell_type": "code",
   "execution_count": 68,
   "metadata": {},
   "outputs": [
    {
     "data": {
      "text/plain": [
       "'https://m.lenta.ru/news/2020/10/28/papina_dochka/'"
      ]
     },
     "execution_count": 68,
     "metadata": {},
     "output_type": "execute_result"
    }
   ],
   "source": [
    "item = news_dom[10]\n",
    "res = domain + item.xpath(\".//span/../@href\")[0]\n",
    "res"
   ]
  },
  {
   "cell_type": "code",
   "execution_count": null,
   "metadata": {},
   "outputs": [],
   "source": []
  },
  {
   "cell_type": "code",
   "execution_count": 82,
   "metadata": {},
   "outputs": [],
   "source": [
    "news_list = []"
   ]
  },
  {
   "cell_type": "code",
   "execution_count": 86,
   "metadata": {},
   "outputs": [],
   "source": [
    "for item in news_dom:\n",
    "    news = {}\n",
    "    news['title'] = cleener(item.xpath(\".//span/text()\")[-1])\n",
    "    news['link'] = domain + item.xpath(\".//span/../@href\")[0]\n",
    "    news['date'] = date.strftime(\"%d.%m.%Y\")\n",
    "    news['source'] = domain\n",
    "    news_list.append(news)"
   ]
  },
  {
   "cell_type": "code",
   "execution_count": 88,
   "metadata": {},
   "outputs": [
    {
     "data": {
      "text/plain": [
       "200"
      ]
     },
     "execution_count": 88,
     "metadata": {},
     "output_type": "execute_result"
    }
   ],
   "source": [
    "len(news_list)"
   ]
  },
  {
   "cell_type": "code",
   "execution_count": null,
   "metadata": {},
   "outputs": [],
   "source": []
  },
  {
   "cell_type": "code",
   "execution_count": 97,
   "metadata": {},
   "outputs": [],
   "source": [
    "from datetime import date, timedelta\n",
    "yesterday = date.today() - timedelta(days=1)"
   ]
  },
  {
   "cell_type": "code",
   "execution_count": 98,
   "metadata": {},
   "outputs": [
    {
     "data": {
      "text/plain": [
       "datetime.date(2020, 10, 27)"
      ]
     },
     "execution_count": 98,
     "metadata": {},
     "output_type": "execute_result"
    }
   ],
   "source": [
    "yesterday"
   ]
  },
  {
   "cell_type": "code",
   "execution_count": 96,
   "metadata": {},
   "outputs": [
    {
     "data": {
      "text/plain": [
       "datetime.date(2020, 10, 28)"
      ]
     },
     "execution_count": 96,
     "metadata": {},
     "output_type": "execute_result"
    }
   ],
   "source": [
    "date.today()"
   ]
  },
  {
   "cell_type": "markdown",
   "metadata": {},
   "source": [
    "# Mail ru"
   ]
  },
  {
   "cell_type": "markdown",
   "metadata": {},
   "source": [
    "<item>\n",
    "    <amplink>https://news.mail.ru/amp/incident/43936016/</amplink>\n",
    "    <category>\n",
    "        События: Криминал\n",
    "    </category>\n",
    "    <description>\n",
    "        <![CDATA[ Чеченского омоновца задержали за стрельбу по своим. ]]>\n",
    "    </description>\n",
    "    <guid isPermaLink=\"false\">\n",
    "        9abf545b7ff7142d7e0d93e9bd95bd86\n",
    "    </guid>\n",
    "    <link>\n",
    "        https://news.mail.ru/incident/43936016/\n",
    "    </link>\n",
    "    <pubDate>\n",
    "        Wed, 28 Oct 2020 18:13:50 +0300\n",
    "    </pubDate>\n",
    "    <title>\n",
    "        <![CDATA[ В деле о разборке у кафе «Смайл» появился первый подозреваемый ]]>\n",
    "    </title>\n",
    "</item>"
   ]
  },
  {
   "cell_type": "code",
   "execution_count": 157,
   "metadata": {},
   "outputs": [],
   "source": [
    "domain = 'https://news.mail.ru'\n",
    "suffix = '/go-mobile/'"
   ]
  },
  {
   "cell_type": "code",
   "execution_count": 158,
   "metadata": {},
   "outputs": [
    {
     "data": {
      "text/plain": [
       "'https://news.mail.ru/go-mobile/'"
      ]
     },
     "execution_count": 158,
     "metadata": {},
     "output_type": "execute_result"
    }
   ],
   "source": [
    "url = domain + suffix\n",
    "url"
   ]
  },
  {
   "cell_type": "code",
   "execution_count": 159,
   "metadata": {},
   "outputs": [],
   "source": [
    "response = requests.get(url,headers=header)\n",
    "dom = html.fromstring(response.text)"
   ]
  },
  {
   "cell_type": "code",
   "execution_count": 160,
   "metadata": {},
   "outputs": [
    {
     "data": {
      "text/plain": [
       "<Element html at 0x7f8fb6670a40>"
      ]
     },
     "execution_count": 160,
     "metadata": {},
     "output_type": "execute_result"
    }
   ],
   "source": [
    "dom"
   ]
  },
  {
   "cell_type": "code",
   "execution_count": null,
   "metadata": {},
   "outputs": [],
   "source": [
    "все новости, кроме главной\n",
    "//a[contains(@class,'item')]\n",
    "//div[contains(@class,'item')]\n",
    "главная:\n",
    "//a[@class='photo']\n",
    "<a class=\"item item_side_left entity\" "
   ]
  },
  {
   "cell_type": "code",
   "execution_count": 186,
   "metadata": {},
   "outputs": [],
   "source": [
    "news_dom = dom.xpath(\"//a[@class='item item_side_left entity']\") "
   ]
  },
  {
   "cell_type": "code",
   "execution_count": 187,
   "metadata": {},
   "outputs": [
    {
     "data": {
      "text/plain": [
       "38"
      ]
     },
     "execution_count": 187,
     "metadata": {},
     "output_type": "execute_result"
    }
   ],
   "source": [
    "len(news_dom)"
   ]
  },
  {
   "cell_type": "code",
   "execution_count": 190,
   "metadata": {},
   "outputs": [],
   "source": [
    "item = news_dom[4]"
   ]
  },
  {
   "cell_type": "code",
   "execution_count": 192,
   "metadata": {},
   "outputs": [
    {
     "data": {
      "text/plain": [
       "['«Краснодар» играет с\\xa0«Челси» в\\xa0матче Лиги чемпионов (трансляция)']"
      ]
     },
     "execution_count": 192,
     "metadata": {},
     "output_type": "execute_result"
    }
   ],
   "source": [
    "item.xpath(\".//text()\")"
   ]
  },
  {
   "cell_type": "code",
   "execution_count": 193,
   "metadata": {},
   "outputs": [
    {
     "data": {
      "text/plain": [
       "['https://sportmail.ru/football-eurocups/247/match/328331/']"
      ]
     },
     "execution_count": 193,
     "metadata": {},
     "output_type": "execute_result"
    }
   ],
   "source": [
    "item.xpath(\".//@href\")"
   ]
  },
  {
   "cell_type": "code",
   "execution_count": 194,
   "metadata": {},
   "outputs": [
    {
     "data": {
      "text/plain": [
       "[]"
      ]
     },
     "execution_count": 194,
     "metadata": {},
     "output_type": "execute_result"
    }
   ],
   "source": [
    "dom.xpath(\"\")"
   ]
  },
  {
   "cell_type": "code",
   "execution_count": null,
   "metadata": {},
   "outputs": [],
   "source": []
  },
  {
   "cell_type": "code",
   "execution_count": null,
   "metadata": {},
   "outputs": [],
   "source": []
  },
  {
   "cell_type": "code",
   "execution_count": null,
   "metadata": {},
   "outputs": [],
   "source": []
  },
  {
   "cell_type": "code",
   "execution_count": null,
   "metadata": {},
   "outputs": [],
   "source": []
  },
  {
   "cell_type": "code",
   "execution_count": null,
   "metadata": {},
   "outputs": [],
   "source": []
  },
  {
   "cell_type": "code",
   "execution_count": null,
   "metadata": {},
   "outputs": [],
   "source": []
  },
  {
   "cell_type": "code",
   "execution_count": null,
   "metadata": {},
   "outputs": [],
   "source": []
  },
  {
   "cell_type": "code",
   "execution_count": null,
   "metadata": {},
   "outputs": [],
   "source": []
  },
  {
   "cell_type": "code",
   "execution_count": 189,
   "metadata": {},
   "outputs": [
    {
     "name": "stdout",
     "output_type": "stream",
     "text": [
      "['Путин поручил выделить регионам 10 млрд рублей на тесты на COVID']\n",
      "['Минздрав назвал условия для\\xa0лечения от\\xa0коронавируса на\\xa0дому']\n",
      "['В России планируется ввести новое определение бедности']\n",
      "['Определены самые смешные фото дикой природы']\n",
      "['«Краснодар» играет с\\xa0«Челси» в\\xa0матче Лиги чемпионов (трансляция)']\n",
      "['В\\xa0Германии со\\xa02\\xa0ноября закроют кафе, театры и\\xa0фитнес-студии']\n",
      "['Кадыров поспорил с\\xa0Песковым по\\xa0поводу критики в\\xa0адрес Макрона']\n",
      "['В\\xa0Москве продлили ограничения по\\xa0коронавирусу']\n",
      "['Боевой петух убил полицейского на Филиппинах']\n",
      "['В\\xa0деле о перестрелке силовиков в Чечне появился подозреваемый']\n",
      "['Рейды по\\xa0соблюдению масочного режима проведут в\\xa0Петербурге']\n",
      "['В\\xa0Петербурге объяснили ограниченный режим работы заведений ']\n",
      "['Путин поздравил Федерацию дзюдо Петербурга с\\xa085-летием  ']\n",
      "['Бизнесу разрешат использовать наименование «Санкт-Петербург»']\n",
      "['С\\xa01\\xa0ноября МФЦ будут работать по\\xa0предварительной записи']\n",
      "['Эрдоган подал в суд на Charlie Hebdo за публикацию карикатуры']\n",
      "['Воздушно-космические силы России успешно испытали новую противоракету системы ПРО']\n",
      "['Песков ответил на слова Кадырова о Макроне призывом смотреть на Путина']\n",
      "['Росстат рассказал о росте цен на сахар, подсолнечное масло и яйца']\n",
      "['Ту-154 совершил последний в России гражданский полет']\n",
      "['Счетная палата представила прогноз развития экономики России в 2021—2023 годах']\n",
      "['«Восточный» сообщил о соглашении по возмещению ущерба по делу Калви']\n",
      "['Купание в Море Ясности: на Луне оказалось больше воды, чем думали']\n",
      "['У берегов Австралии найден новый коралловый риф-небоскреб. Он выше Эмпайр-стейт-билдинг']\n",
      "['Рабочий нашел в бельгийской церкви послание из прошлого']\n",
      "['Власти Казахстана приглашают туристов в страну фразой из «Бората»']\n",
      "['Количество выявленных в России фальшивых денег в третьем квартале выросло почти вдвое']\n",
      "['В Омске началась проверка из-за нехватки мест для больных коронавирусом']\n",
      "['ЦБ рассказал о новой уловке мошенников на финансовом рынке']\n",
      "['Baring и компания Аветисяна подписали мировое по спору за «Восточный»']\n",
      "['Если подтвердился ковид: что делать и какие правила соблюдать больным и их родственникам', '10 карточек']\n",
      "['Загрязнение воды и массовая гибель животных на Камчатке. Главное', '4 карточек']\n",
      "['Мира не будет? Конфликт в Карабахе только набирает обороты', '4 карточек']\n",
      "['«Политическое землетрясение»: коронавирус Дональда Трампа в вопросах и ответах', '7 карточек']\n",
      "['\\r\\n\\t\\t', '\\r\\n\\t\\t\\t', '\\r\\n\\t\\t\\t\\t', '\\r\\n\\t\\t\\t', '\\r\\n\\t\\t\\t', '\\r\\n\\t\\t\\t\\t', 'Фанаты «Локо» помогали «Баварии». 70 минут они болели за\\xa0Семина', '\\r\\n\\t\\t\\t', '\\r\\n\\t\\t', '\\r\\n\\t']\n",
      "['\\r\\n\\t\\t', '\\r\\n\\t\\t\\t', '\\r\\n\\t\\t\\t\\t', 'РФС признал две ошибки судьи в\\xa0матче «Краснодар»\\xa0— «Спартак»', '\\r\\n\\t\\t\\t', '\\r\\n\\t\\t', '\\r\\n\\t']\n",
      "['\\r\\n\\t\\t', '\\r\\n\\t\\t\\t', '\\r\\n\\t\\t\\t\\t', '«Крылья Советов» разгромили «Шинник» и\\xa0возглавили таблицу ФНЛ', '\\r\\n\\t\\t\\t', '\\r\\n\\t\\t', '\\r\\n\\t']\n",
      "['\\r\\n\\t\\t', '\\r\\n\\t\\t\\t', '\\r\\n\\t\\t\\t\\t', 'Клуб НБА продан за\\xa01,6 миллиарда долларов', '\\r\\n\\t\\t\\t', '\\r\\n\\t\\t', '\\r\\n\\t']\n"
     ]
    }
   ],
   "source": [
    "for item in news_dom:\n",
    "    print(item.xpath(\".//text()\"))"
   ]
  },
  {
   "cell_type": "code",
   "execution_count": null,
   "metadata": {},
   "outputs": [],
   "source": []
  },
  {
   "cell_type": "code",
   "execution_count": null,
   "metadata": {},
   "outputs": [],
   "source": []
  },
  {
   "cell_type": "code",
   "execution_count": null,
   "metadata": {},
   "outputs": [],
   "source": [
    "for item in news_dom:\n",
    "    news = {}\n",
    "    news['title'] = cleener(item.xpath(\".//span/text()\")[-1])\n",
    "    news['link'] = domain + item.xpath(\".//span/../@href\")[0]\n",
    "    news['date'] = date.strftime(\"%d.%m.%Y\")\n",
    "    news['source'] = domain\n",
    "    news_list.append(news)"
   ]
  },
  {
   "cell_type": "code",
   "execution_count": null,
   "metadata": {},
   "outputs": [],
   "source": []
  },
  {
   "cell_type": "code",
   "execution_count": null,
   "metadata": {},
   "outputs": [],
   "source": []
  },
  {
   "cell_type": "code",
   "execution_count": null,
   "metadata": {},
   "outputs": [],
   "source": []
  },
  {
   "cell_type": "code",
   "execution_count": null,
   "metadata": {},
   "outputs": [],
   "source": []
  },
  {
   "cell_type": "code",
   "execution_count": null,
   "metadata": {},
   "outputs": [],
   "source": []
  },
  {
   "cell_type": "code",
   "execution_count": null,
   "metadata": {},
   "outputs": [],
   "source": []
  },
  {
   "cell_type": "code",
   "execution_count": null,
   "metadata": {},
   "outputs": [],
   "source": []
  },
  {
   "cell_type": "code",
   "execution_count": null,
   "metadata": {},
   "outputs": [],
   "source": []
  },
  {
   "cell_type": "code",
   "execution_count": 196,
   "metadata": {},
   "outputs": [],
   "source": [
    "from bs4 import BeautifulSoup as BS\n",
    "from lxml import html\n",
    "import requests\n",
    "\n",
    "headers = {'User-Agent': 'Mozilla/5.0 (Windows NT 6.1; Win64; x64) \\\n",
    "         AppleWebKit/537.36 (KHTML, like Gecko) \\\n",
    "         Chrome/76.0.3809.100 Safari/537.36 OPR/63.0.3368.53'}\n"
   ]
  },
  {
   "cell_type": "code",
   "execution_count": 262,
   "metadata": {},
   "outputs": [],
   "source": [
    "def getpage(url, headers=headers, params=None):\n",
    "    responce = requests.get(url, headers=headers, params=params)\n",
    "\n",
    "    # проверяем доступность страницы\n",
    "    if responce.status_code is not requests.codes.ok:\n",
    "        print('Страница ' + url + ' не доступна.' + str(responce.status_code))\n",
    "    return responce\n",
    "\n",
    "\n",
    "def get_bs(url):\n",
    "    responce = getpage(url)\n",
    "    # делаем объект bs\n",
    "    soup = BS(responce.text, 'lxml')\n",
    "    return soup\n",
    "\n",
    "def get_xpath(url):\n",
    "    '''get xpath object'''\n",
    "    responce = getpage(url)\n",
    "    dom = html.fromstring(responce.text)\n",
    "    return dom"
   ]
  },
  {
   "cell_type": "code",
   "execution_count": 221,
   "metadata": {},
   "outputs": [],
   "source": [
    "responce = getpage('https://news.mail.ru/rss')"
   ]
  },
  {
   "cell_type": "code",
   "execution_count": 255,
   "metadata": {},
   "outputs": [],
   "source": [
    "text = responce.text\n",
    "title_pattern = r'<title><\\!\\[CDATA\\[(.+)\\]\\]>'"
   ]
  },
  {
   "cell_type": "code",
   "execution_count": 256,
   "metadata": {},
   "outputs": [],
   "source": [
    "titles = re.findall(pattern, text)[:-1]"
   ]
  },
  {
   "cell_type": "code",
   "execution_count": null,
   "metadata": {},
   "outputs": [],
   "source": []
  },
  {
   "cell_type": "code",
   "execution_count": null,
   "metadata": {},
   "outputs": [],
   "source": []
  },
  {
   "cell_type": "code",
   "execution_count": null,
   "metadata": {},
   "outputs": [],
   "source": []
  },
  {
   "cell_type": "code",
   "execution_count": null,
   "metadata": {},
   "outputs": [],
   "source": []
  },
  {
   "cell_type": "code",
   "execution_count": null,
   "metadata": {},
   "outputs": [],
   "source": []
  },
  {
   "cell_type": "code",
   "execution_count": null,
   "metadata": {},
   "outputs": [],
   "source": []
  },
  {
   "cell_type": "code",
   "execution_count": 258,
   "metadata": {},
   "outputs": [
    {
     "data": {
      "text/plain": [
       "'<?xml version=\"1.0\" encoding=\"utf-8\"?>\\n  <rss version=\"2.0\">\\n    <channel>\\n      <description><![CDATA[Оперативная информация и аналитика на страницах проекта «Новости Mail.ru»]]></description>\\n      <generator>news.mail.ru RSS engine</generator>\\n      <image>\\n        <link>https://news.mail.ru/</link>\\n        <title>Новости Mail.ru</title>\\n        <url>https://news.mail.ru/img/logo/news/news_web.png</url>\\n      </image>\\n      <item>\\n        <category>Экономика: Отрасли</category>\\n        <description><![CDATA[МОСКВА, 28 окт — РИА Новости. Сахар, подсолнечное масло и куриные яйца в России с 20 по 26 октября продолжили дорожать: темп прироста цен на масло ускорился, на сахар — чуть замедлился по сравнению с предыдущей неделей, на яйца — остался на том же уровне, следует из сообщения Росстата.]]></description>\\n        <guid isPermaLink=\"false\">d42341f0eff2e323f2c820bb33f68e82</guid>\\n        <link>https://news.mail.ru/economics/43937027/</link>\\n        <pubDate>Wed, 28 Oct 2020 21:02:47 +0300</pubDate>\\n        <title><![CDATA[Росстат рассказал о росте цен на сахар, подсолнечное масло и яйца]]></title>\\n      </item>\\n      <item>\\n        <amplink>https://news.mail.ru/amp/politics/43937280/</amplink>\\n        <category>Политика: За рубежом</category>\\n        <description><![CDATA[БЕРЛИН, 28 октября. /ТАСС/. Правительство Германии и главы федеральных земель на фоне роста числа инфицированных коронавирусом договорились ввести со 2 ноября новый карантинный режим. Об этом сообщила в среду канцлер ФРГ Ангела Меркель по итогам переговоров.]]></description>\\n        <guid isPermaLink=\"false\">e05bff83c5c46b01d7ef4ac022188f1b</guid>\\n        <link>https://news.mail.ru/politics/43937280/</link>\\n        <pubDate>Wed, 28 Oct 2020 20:06:43 +0300</pubDate>\\n        <title><![CDATA[В Германии со 2 ноября закроют кафе, театры и фитнес-студии]]></title>\\n      </item>\\n      <item>\\n        <amplink>https://news.mail.ru/amp/politics/43936720/</amplink>\\n        <category>Политика: В России</category>\\n        <description><![CDATA[Заболевший коронавирусом пациент может проходить лечение дома, если у него есть возможность находиться в отдельной комнате, следует из приказа Минздрава, опубликованного на официальном интернет-портале правовой информации.]]></description>\\n        <guid isPermaLink=\"false\">3b47a8a9f75f19a1178e2b37c33530c8</guid>\\n        <link>https://news.mail.ru/politics/43936720/</link>\\n        <pubDate>Wed, 28 Oct 2020 19:34:11 +0300</pubDate>\\n        <title><![CDATA[Минздрав назвал условия для лечения от коронавируса на дому]]></title>\\n      </item>\\n      <item>\\n        <category>Политика: За рубежом</category>\\n        <description><![CDATA[ВАШИНГТОН, 28 окт — РИА Новости. США разместят при необходимости гиперзвуковые ракеты, ракеты средней и меньшей дальности в Европе для сдерживания России, заявил советник президента США по нацбезопасности Роберт О́Брайен.]]></description>\\n        <guid isPermaLink=\"false\">de511349ae377971b9b7a435847e6fe1</guid>\\n        <link>https://news.mail.ru/politics/43936604/</link>\\n        <pubDate>Wed, 28 Oct 2020 18:54:38 +0300</pubDate>\\n        <title><![CDATA[США заявили о готовности разместить в Европе гиперзвуковые ракеты]]></title>\\n      </item>\\n      <item>\\n        <amplink>https://news.mail.ru/amp/society/43933623/</amplink>\\n        <category>Общество: Наука</category>\\n        <description><![CDATA[В недавно опубликованной статье американских астрономов сообщается о наличии на Луне воды, причем не только в затененных приполярных кратерах, как думали раньше, но и в других районах нашего спутника. Означает ли это, что лунные города стали ближе к реальности?]]></description>\\n        <guid isPermaLink=\"false\">09aeac375b1f9f5a8b48d44117119e45</guid>\\n        <link>https://news.mail.ru/society/43933623/</link>\\n        <pubDate>Wed, 28 Oct 2020 18:46:07 +0300</pubDate>\\n        <title><![CDATA[Купание в Море Ясности: на Луне оказалось больше воды, чем думали]]></title>\\n      </item>\\n      <item>\\n        <amplink>https://news.mail.ru/amp/society/43935789/</amplink>\\n        <category>Общество: Наука</category>\\n        <description><![CDATA[Ученые обнаружили ранее неизвестный огромный коралловый риф в северной части Большого барьерного рифа у берегов Австралии.]]></description>\\n        <guid isPermaLink=\"false\">f27bae74094ccd4c0e0913281e0cce98</guid>\\n        <link>https://news.mail.ru/society/43935789/</link>\\n        <pubDate>Wed, 28 Oct 2020 18:43:24 +0300</pubDate>\\n        <title><![CDATA[У берегов Австралии найден новый коралловый риф-небоскреб. Он выше Эмпайр-стейт-билдинг]]></title>\\n      </item>\\n      <item>\\n        <amplink>https://news.mail.ru/amp/incident/43936016/</amplink>\\n        <category>События: Криминал</category>\\n        <description><![CDATA[Чеченского омоновца задержали за стрельбу по своим.  ]]></description>\\n        <guid isPermaLink=\"false\">9abf545b7ff7142d7e0d93e9bd95bd86</guid>\\n        <link>https://news.mail.ru/incident/43936016/</link>\\n        <pubDate>Wed, 28 Oct 2020 18:13:50 +0300</pubDate>\\n        <title><![CDATA[В деле о разборке у кафе «Смайл» появился первый подозреваемый]]></title>\\n      </item>\\n      <item>\\n        <amplink>https://news.mail.ru/amp/politics/43934990/</amplink>\\n        <category>Политика: За рубежом</category>\\n        <description><![CDATA[Президент Турции Реджеп Эрдоган подал в суд на сатирический французский журнал Charlie Hebdo за карикатуру, которую журнал выпустил 27 октября. Об этом сообщает турецкий телеканал TRT.]]></description>\\n        <guid isPermaLink=\"false\">2d13be28883fd90e46c40fe3db08cad5</guid>\\n        <link>https://news.mail.ru/politics/43934990/</link>\\n        <pubDate>Wed, 28 Oct 2020 17:59:53 +0300</pubDate>\\n        <title><![CDATA[Эрдоган подал в суд на Charlie Hebdo за публикацию карикатуры]]></title>\\n      </item>\\n      <item>\\n        <amplink>https://news.mail.ru/amp/society/43935807/</amplink>\\n        <category>Общество: Жизнь</category>\\n        <description><![CDATA[Письмо было оставлено в 1941 году]]></description>\\n        <guid isPermaLink=\"false\">8595c9bf5ba9698736b21a62f035a3a2</guid>\\n        <link>https://news.mail.ru/society/43935807/</link>\\n        <pubDate>Wed, 28 Oct 2020 17:56:36 +0300</pubDate>\\n        <title><![CDATA[Рабочий нашел в бельгийской церкви послание из прошлого]]></title>\\n      </item>\\n      <item>\\n        <amplink>https://news.mail.ru/amp/politics/43935082/</amplink>\\n        <category>Политика: В России</category>\\n        <description><![CDATA[МОСКВА, 28 октября. /ТАСС/. Прожиточный минимум не должен становиться уровнем оценки бедности. Минтруд планирует пересмотреть критерии ее оценки, заявил в среду замминистра труда и социальной защиты Андрей Пудов.]]></description>\\n        <guid isPermaLink=\"false\">e021d4291095dfbf99588fbb6b4ed3d9</guid>\\n        <link>https://news.mail.ru/politics/43935082/</link>\\n        <pubDate>Wed, 28 Oct 2020 17:52:01 +0300</pubDate>\\n        <title><![CDATA[Минтруд планирует пересмотреть критерии оценки бедности]]></title>\\n      </item>\\n      <item>\\n        <amplink>https://news.mail.ru/amp/politics/43934955/</amplink>\\n        <category>Политика: За рубежом</category>\\n        <description><![CDATA[Глава Чечни Рамзан Кадыров поспорил с пресс-секретарем президента России Дмитрием Песковым по поводу оценки высказанной им ранее критики в адрес французского лидера Эммануэля Макрона. Ответ представителю Кремля он опубликовал в своем Telegram-канале в среду, 28 октября.]]></description>\\n        <guid isPermaLink=\"false\">255d06a69d940d0b6e102d3e858a1831</guid>\\n        <link>https://news.mail.ru/politics/43934955/</link>\\n        <pubDate>Wed, 28 Oct 2020 17:40:29 +0300</pubDate>\\n        <title><![CDATA[Кадыров поспорил с Песковым по поводу критики в адрес Макрона]]></title>\\n      </item>\\n      <item>\\n        <amplink>https://news.mail.ru/amp/society/43935333/</amplink>\\n        <category>Общество: Жизнь</category>\\n        <description><![CDATA[Скандальный образ комика Саши Барона Коэна оказался им на руку.]]></description>\\n        <guid isPermaLink=\"false\">0ed1a8a3992d87ca0be75ce5d9878f48</guid>\\n        <link>https://news.mail.ru/society/43935333/</link>\\n        <pubDate>Wed, 28 Oct 2020 17:17:09 +0300</pubDate>\\n        <title><![CDATA[Власти Казахстана приглашают туристов в страну фразой из «Бората»]]></title>\\n      </item>\\n      <item>\\n        <amplink>https://news.mail.ru/amp/incident/43934784/</amplink>\\n        <category>События: Криминал</category>\\n        <description><![CDATA[В третьем квартале 2020 года было выявлено 14 780 поддельных денежных знаков, следует из материалов Банка России (.pdf). Это почти в два раза больше, чем в предыдущем квартале, когда ЦБ выявил 7725 случаев распространения фальшивых денег.]]></description>\\n        <guid isPermaLink=\"false\">13a2544af7f36b22652f18177be3a85a</guid>\\n        <link>https://news.mail.ru/incident/43934784/</link>\\n        <pubDate>Wed, 28 Oct 2020 17:15:44 +0300</pubDate>\\n        <title><![CDATA[Количество выявленных в России фальшивых денег в третьем квартале выросло почти вдвое]]></title>\\n      </item>\\n      <item>\\n        <amplink>https://news.mail.ru/amp/incident/43933851/</amplink>\\n        <category>События: ЧП</category>\\n        <description><![CDATA[В омском минздраве начато служебное расследование громкого скандала с несвоевременной госпитализацией двух тяжелобольных пациентов. Они провели в машине скорой помощи полдня, так как в больницах не было свободных мест. В результате скорая привезла пациентов к зданию областного минздрава. На время расследования отстранена от должности замминистра здравоохранения региона Анастасия Малова.]]></description>\\n        <guid isPermaLink=\"false\">17ae5572fcad181268e5cad1875821f5</guid>\\n        <link>https://news.mail.ru/incident/43933851/</link>\\n        <pubDate>Wed, 28 Oct 2020 17:02:09 +0300</pubDate>\\n        <title><![CDATA[В Омске началась проверка из-за нехватки мест для больных коронавирусом]]></title>\\n      </item>\\n      <item>\\n        <amplink>https://news.mail.ru/amp/society/43934960/</amplink>\\n        <category>Общество: Жизнь</category>\\n        <description><![CDATA[Он появился из грозовой тучи.]]></description>\\n        <guid isPermaLink=\"false\">e2b5f2c29ea516a11744a921db2c7669</guid>\\n        <link>https://news.mail.ru/society/43934960/</link>\\n        <pubDate>Wed, 28 Oct 2020 16:49:55 +0300</pubDate>\\n        <title><![CDATA[Возле побережья Барселоны появился водяной смерч]]></title>\\n      </item>\\n      <item>\\n        <amplink>https://news.mail.ru/amp/incident/43933313/</amplink>\\n        <category>События: Криминал</category>\\n        <description><![CDATA[Мошенники на финансовом рынке начали привлекать жертв через сайты с опросами, заявил директор департамента противодействия нелегальной деятельности Банка России Валерий Лях. Его слова распространила пресс-служба регулятора.]]></description>\\n        <guid isPermaLink=\"false\">a9c65ef7bc962ff9dd7e23fe373c30d4</guid>\\n        <link>https://news.mail.ru/incident/43933313/</link>\\n        <pubDate>Wed, 28 Oct 2020 16:42:55 +0300</pubDate>\\n        <title><![CDATA[ЦБ рассказал о новой уловке мошенников на финансовом рынке]]></title>\\n      </item>\\n      <item>\\n        <category>Общество: Жизнь</category>\\n        <description><![CDATA[МОСКВА, 28 окт — РИА Новости. Информационная повестка перегружена малополезными фактами о коронавирусе, для повышения эффективности информирования населения о мерах профилактики COVID-19 решено, что эксперты министерства здравоохранения должны координировать свою работу со СМИ, сообщила пресс-служба Минздрава России.]]></description>\\n        <guid isPermaLink=\"false\">e387a7cd8a29404d72465756383bbb14</guid>\\n        <link>https://news.mail.ru/society/43934344/</link>\\n        <pubDate>Wed, 28 Oct 2020 16:36:31 +0300</pubDate>\\n        <title><![CDATA[Минздрав призвал врачей координировать заявления по COVID с министерством]]></title>\\n      </item>\\n      <item>\\n        <amplink>https://news.mail.ru/amp/incident/43934370/</amplink>\\n        <category>События: Криминал</category>\\n        <description><![CDATA[Кипрская компания Evison (принадлежит фонду Baring Vostok) и «Финвижн» (контролируется Артемом Аветисяном), находящиеся в акционерном конфликте из-за спора вокруг банка «Восточный», заключили мировое соглашение — они отзовут все иски друг к другу, поданные во всех юрисдикциях. Об этом говорится в совместном заявлении сторон, поступившем в РБК.]]></description>\\n        <guid isPermaLink=\"false\">776ee929ce879673879c8915ab08c30a</guid>\\n        <link>https://news.mail.ru/incident/43934370/</link>\\n        <pubDate>Wed, 28 Oct 2020 16:18:54 +0300</pubDate>\\n        <title><![CDATA[Baring и компания Аветисяна подписали мировое по спору за «Восточный»]]></title>\\n      </item>\\n      <item>\\n        <amplink>https://news.mail.ru/amp/society/43933999/</amplink>\\n        <category>Общество: Жизнь</category>\\n        <description><![CDATA[Он поможет в борьбе с климатическими изменениями]]></description>\\n        <guid isPermaLink=\"false\">07274dc7367983b38ef2412d40737ec7</guid>\\n        <link>https://news.mail.ru/society/43933999/</link>\\n        <pubDate>Wed, 28 Oct 2020 15:53:44 +0300</pubDate>\\n        <title><![CDATA[Ученые создали уникальный супербелый цвет]]></title>\\n      </item>\\n      <item>\\n        <amplink>https://news.mail.ru/amp/society/43933864/</amplink>\\n        <category>Общество: Жизнь</category>\\n        <description><![CDATA[Пес провел анализ радиационного загрязнения]]></description>\\n        <guid isPermaLink=\"false\">6e4f3d3b84837e8e4058ef7a3a290947</guid>\\n        <link>https://news.mail.ru/society/43933864/</link>\\n        <pubDate>Wed, 28 Oct 2020 15:48:30 +0300</pubDate>\\n        <title><![CDATA[Робособаку от Boston Dynamics выгуляли на Чернобыльской АЭС (видео)]]></title>\\n      </item>\\n      <language>ru</language>\\n      <lastBuildDate>Wed, 28 Oct 2020 21:02:47 +0300</lastBuildDate>\\n      <link>https://news.mail.ru/</link>\\n      <managingEditor>info@news.mail.ru</managingEditor>\\n      <title><![CDATA[Новости Mail.ru: Главные новости]]></title>\\n      <webMaster>info@news.mail.ru</webMaster>\\n    </channel>\\n  </rss>\\n'"
      ]
     },
     "execution_count": 258,
     "metadata": {},
     "output_type": "execute_result"
    }
   ],
   "source": [
    "text"
   ]
  },
  {
   "cell_type": "code",
   "execution_count": 199,
   "metadata": {},
   "outputs": [],
   "source": [
    "dom = get_bs('https://news.mail.ru/rss')"
   ]
  },
  {
   "cell_type": "code",
   "execution_count": null,
   "metadata": {},
   "outputs": [],
   "source": []
  },
  {
   "cell_type": "code",
   "execution_count": 207,
   "metadata": {},
   "outputs": [],
   "source": [
    "news_blocks = dom.findAll('item')"
   ]
  },
  {
   "cell_type": "code",
   "execution_count": 208,
   "metadata": {},
   "outputs": [],
   "source": [
    "news_block = news_blocks[1]"
   ]
  },
  {
   "cell_type": "code",
   "execution_count": 216,
   "metadata": {},
   "outputs": [
    {
     "data": {
      "text/plain": [
       "'https://news.mail.ru/amp/politics/43937280/'"
      ]
     },
     "execution_count": 216,
     "metadata": {},
     "output_type": "execute_result"
    }
   ],
   "source": [
    "news_block.find('amplink').text"
   ]
  },
  {
   "cell_type": "code",
   "execution_count": 217,
   "metadata": {},
   "outputs": [
    {
     "data": {
      "text/plain": [
       "''"
      ]
     },
     "execution_count": 217,
     "metadata": {},
     "output_type": "execute_result"
    }
   ],
   "source": [
    "news_block.find('title').text"
   ]
  },
  {
   "cell_type": "code",
   "execution_count": 218,
   "metadata": {},
   "outputs": [
    {
     "data": {
      "text/plain": [
       "'Wed, 28 Oct 2020 20:06:43 +0300'"
      ]
     },
     "execution_count": 218,
     "metadata": {},
     "output_type": "execute_result"
    }
   ],
   "source": [
    "news_block.find('pubdate').text"
   ]
  },
  {
   "cell_type": "code",
   "execution_count": 260,
   "metadata": {},
   "outputs": [],
   "source": []
  },
  {
   "cell_type": "markdown",
   "metadata": {},
   "source": [
    "# АГРЕГАТОР"
   ]
  },
  {
   "cell_type": "code",
   "execution_count": 263,
   "metadata": {},
   "outputs": [],
   "source": [
    "url = 'https://vesti365.ru/mail-ru-novosti/'"
   ]
  },
  {
   "cell_type": "code",
   "execution_count": 264,
   "metadata": {},
   "outputs": [],
   "source": [
    "dom = get_xpath(url)"
   ]
  },
  {
   "cell_type": "code",
   "execution_count": 266,
   "metadata": {},
   "outputs": [],
   "source": [
    "#     //ul[@class='rss-aggregator']\n",
    "news_dom = dom.xpath(\"//li[@class='feed-item']\")"
   ]
  },
  {
   "cell_type": "code",
   "execution_count": 268,
   "metadata": {},
   "outputs": [],
   "source": [
    "item = news_dom[0]"
   ]
  },
  {
   "cell_type": "code",
   "execution_count": 340,
   "metadata": {},
   "outputs": [
    {
     "data": {
      "text/plain": [
       "'2009.01.07'"
      ]
     },
     "execution_count": 340,
     "metadata": {},
     "output_type": "execute_result"
    }
   ],
   "source": [
    "from datetime import datetime as dt\n",
    "a = dt.strptime('01.07.2009', '%d.%m.%Y').strftime(\"%Y.%d.%m\")\n",
    "a"
   ]
  },
  {
   "cell_type": "code",
   "execution_count": 345,
   "metadata": {},
   "outputs": [],
   "source": [
    "news = {}\n",
    "news['title'] = item.xpath(\"./a/text()\")[0].replace('\\xa0',' ')\n",
    "news['link'] = item.xpath(\"./a/@href\")[0]\n",
    "news['source'] = re.findall(r'^https:\\/\\/[\\.a-z0-9_-]+', news['link'])[0]\n",
    "\n",
    "news['date'] = item.xpath(\".//span[@class='feed-date']/text()\")[0]\n",
    "news['date'] = re.search('[\\.0-9_-]+', news['date'])[0]"
   ]
  },
  {
   "cell_type": "code",
   "execution_count": 347,
   "metadata": {},
   "outputs": [
    {
     "data": {
      "text/plain": [
       "{'title': 'Переход на удаленку: как будут учиться студенты',\n",
       " 'link': 'https://news.mail.ru/society/43938241/',\n",
       " 'source': 'https://news.mail.ru',\n",
       " 'date': '28.10.2020'}"
      ]
     },
     "execution_count": 347,
     "metadata": {},
     "output_type": "execute_result"
    }
   ],
   "source": [
    "news"
   ]
  },
  {
   "cell_type": "code",
   "execution_count": 350,
   "metadata": {},
   "outputs": [],
   "source": [
    "import hashlib"
   ]
  },
  {
   "cell_type": "code",
   "execution_count": 351,
   "metadata": {},
   "outputs": [
    {
     "ename": "TypeError",
     "evalue": "object supporting the buffer API required",
     "output_type": "error",
     "traceback": [
      "\u001b[0;31m---------------------------------------------------------------------------\u001b[0m",
      "\u001b[0;31mTypeError\u001b[0m                                 Traceback (most recent call last)",
      "\u001b[0;32m<ipython-input-351-03bf2371372c>\u001b[0m in \u001b[0;36m<module>\u001b[0;34m\u001b[0m\n\u001b[0;32m----> 1\u001b[0;31m \u001b[0mhashlib\u001b[0m\u001b[0;34m.\u001b[0m\u001b[0mmd5\u001b[0m\u001b[0;34m(\u001b[0m\u001b[0mnews\u001b[0m\u001b[0;34m)\u001b[0m\u001b[0;34m\u001b[0m\u001b[0;34m\u001b[0m\u001b[0m\n\u001b[0m",
      "\u001b[0;31mTypeError\u001b[0m: object supporting the buffer API required"
     ]
    }
   ],
   "source": [
    "hashlib.md5(b'news')"
   ]
  },
  {
   "cell_type": "code",
   "execution_count": 355,
   "metadata": {},
   "outputs": [
    {
     "data": {
      "text/plain": [
       "'-458736543447170193'"
      ]
     },
     "execution_count": 355,
     "metadata": {},
     "output_type": "execute_result"
    }
   ],
   "source": [
    "str(hash(frozenset(news.items())))"
   ]
  },
  {
   "cell_type": "code",
   "execution_count": 356,
   "metadata": {},
   "outputs": [
    {
     "data": {
      "text/plain": [
       "('Голикова заявила о помощи 25 тысячам детей с редкими болезнями за ',\n",
       " 'счет налогов')"
      ]
     },
     "execution_count": 356,
     "metadata": {},
     "output_type": "execute_result"
    }
   ],
   "source": [
    "s =('Голикова заявила о помощи 25 тысячам детей с редкими болезнями за ', 'счет налогов')\n",
    "s"
   ]
  },
  {
   "cell_type": "code",
   "execution_count": 357,
   "metadata": {},
   "outputs": [
    {
     "data": {
      "text/plain": [
       "2"
      ]
     },
     "execution_count": 357,
     "metadata": {},
     "output_type": "execute_result"
    }
   ],
   "source": [
    "len(s)"
   ]
  },
  {
   "cell_type": "code",
   "execution_count": 358,
   "metadata": {},
   "outputs": [
    {
     "data": {
      "text/plain": [
       "'Голикова заявила о помощи 25 тысячам детей с редкими болезнями за счет налогов'"
      ]
     },
     "execution_count": 358,
     "metadata": {},
     "output_type": "execute_result"
    }
   ],
   "source": [
    "''.join(s)"
   ]
  },
  {
   "cell_type": "code",
   "execution_count": null,
   "metadata": {},
   "outputs": [],
   "source": []
  }
 ],
 "metadata": {
  "kernelspec": {
   "display_name": "Python 3",
   "language": "python",
   "name": "python3"
  },
  "language_info": {
   "codemirror_mode": {
    "name": "ipython",
    "version": 3
   },
   "file_extension": ".py",
   "mimetype": "text/x-python",
   "name": "python",
   "nbconvert_exporter": "python",
   "pygments_lexer": "ipython3",
   "version": "3.8.3"
  }
 },
 "nbformat": 4,
 "nbformat_minor": 4
}
