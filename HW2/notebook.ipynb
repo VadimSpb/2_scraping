{
 "cells": [
  {
   "cell_type": "code",
   "execution_count": null,
   "metadata": {},
   "outputs": [],
   "source": [
    "import re\n",
    "import pandas as pd\n",
    "import requests\n",
    "import time\n",
    "\n",
    "from bs4 import BeautifulSoup as bs\n",
    "from vac_name_cleener import vac_name_cleener\n",
    "from HH_vac_block_parcer import get_info"
   ]
  },
  {
   "cell_type": "code",
   "execution_count": null,
   "metadata": {},
   "outputs": [],
   "source": [
    "vacancy_name = 'sql'"
   ]
  },
  {
   "cell_type": "code",
   "execution_count": null,
   "metadata": {},
   "outputs": [],
   "source": [
    "vacancy_name = vac_name_cleener(vacancy_name)\n",
    "\n",
    "vacancy_list = []\n",
    "salary_list = []\n",
    "min_salary = []\n",
    "max_salary = []\n",
    "url_list = []\n",
    "currency_list = []\n",
    "source_name_list = []\n",
    "employer_list = []\n"
   ]
  },
  {
   "cell_type": "code",
   "execution_count": null,
   "metadata": {},
   "outputs": [],
   "source": [
    "pages = 1  # !!!!!!!!!!!!!!!!!!!!!!!!!\n"
   ]
  },
  {
   "cell_type": "code",
   "execution_count": null,
   "metadata": {},
   "outputs": [],
   "source": [
    "domain = 'hh.ru'\n",
    "main_link = 'https://hh.ru/search/vacancy?text='"
   ]
  },
  {
   "cell_type": "code",
   "execution_count": null,
   "metadata": {},
   "outputs": [],
   "source": [
    "headers = {\n",
    "    'User-Agent': 'Mozilla/5.0 (Windows NT 6.1; Win64; x64) \\\n",
    "     AppleWebKit/537.36 (KHTML, like Gecko) \\\n",
    "     Chrome/76.0.3809.100 Safari/537.36 OPR/63.0.3368.53'\n",
    "}"
   ]
  },
  {
   "cell_type": "code",
   "execution_count": null,
   "metadata": {},
   "outputs": [],
   "source": [
    "pg_num = '2'"
   ]
  },
  {
   "cell_type": "code",
   "execution_count": null,
   "metadata": {},
   "outputs": [],
   "source": [
    "page = str(pg_num);\n",
    "page"
   ]
  },
  {
   "cell_type": "code",
   "execution_count": null,
   "metadata": {},
   "outputs": [],
   "source": [
    "link = main_link + vacancy_name + '&page=' + page\n",
    "link"
   ]
  },
  {
   "cell_type": "code",
   "execution_count": null,
   "metadata": {},
   "outputs": [],
   "source": [
    "html = requests.get(link, headers=headers)\n",
    "html"
   ]
  },
  {
   "cell_type": "code",
   "execution_count": null,
   "metadata": {},
   "outputs": [],
   "source": [
    "soup = bs(html.text, 'lxml')"
   ]
  },
  {
   "cell_type": "code",
   "execution_count": null,
   "metadata": {},
   "outputs": [],
   "source": []
  },
  {
   "cell_type": "code",
   "execution_count": null,
   "metadata": {},
   "outputs": [],
   "source": [
    "htmlout = str(soup)\n",
    "with open(\"soup.html\", \"w\") as file:\n",
    "    file.write(htmlout)"
   ]
  },
  {
   "cell_type": "code",
   "execution_count": null,
   "metadata": {},
   "outputs": [],
   "source": [
    "vacancy_block = soup.find_all('div', class_='vacancy-serp-item') # 50 vacs was found"
   ]
  },
  {
   "cell_type": "code",
   "execution_count": null,
   "metadata": {},
   "outputs": [],
   "source": [
    "len(vacancy_block)"
   ]
  },
  {
   "cell_type": "markdown",
   "metadata": {},
   "source": [
    "### * * * * * * "
   ]
  },
  {
   "cell_type": "code",
   "execution_count": null,
   "metadata": {},
   "outputs": [],
   "source": [
    "vacancy = vacancy_block[8]"
   ]
  },
  {
   "cell_type": "code",
   "execution_count": null,
   "metadata": {},
   "outputs": [],
   "source": [
    "len(vacancy)"
   ]
  },
  {
   "cell_type": "code",
   "execution_count": null,
   "metadata": {},
   "outputs": [],
   "source": [
    "# должность\n",
    "vacancy.find_all('a', href=True)[0].text"
   ]
  },
  {
   "cell_type": "code",
   "execution_count": null,
   "metadata": {},
   "outputs": [],
   "source": [
    "for i in range(len(vacancy.find_all('a', href=True))):\n",
    "    print(i, vacancy.find_all('a', href=True)[i].text)"
   ]
  },
  {
   "cell_type": "code",
   "execution_count": null,
   "metadata": {},
   "outputs": [],
   "source": [
    "# работодатель\n",
    "employers_tags = {\"class\":\"bloko-link bloko-link_secondary\", \"data-qa\":\"vacancy-serp__vacancy-employer\"}\n",
    "vacancy.find(\"a\", employers_tags).text"
   ]
  },
  {
   "cell_type": "code",
   "execution_count": null,
   "metadata": {},
   "outputs": [],
   "source": [
    "<span class=\"vacancy-serp-item__meta-info\" data-qa=\"vacancy-serp__vacancy-address\">Саратов</span>"
   ]
  },
  {
   "cell_type": "code",
   "execution_count": null,
   "metadata": {},
   "outputs": [],
   "source": [
    "salary_tags = {'class':'bloko-section-header-3 bloko-section-header-3_lite',\n",
    "               'data-qa':'vacancy-serp__vacancy-compensation'}\n",
    "vacancy.find('span', salary_tags) is None"
   ]
  },
  {
   "cell_type": "code",
   "execution_count": null,
   "metadata": {},
   "outputs": [],
   "source": [
    "vacancy.find(class_=\"bloko-link bloko-link_secondary\").text"
   ]
  },
  {
   "cell_type": "code",
   "execution_count": null,
   "metadata": {},
   "outputs": [],
   "source": [
    "vacancy.find('span', salary_tags).text"
   ]
  },
  {
   "cell_type": "code",
   "execution_count": null,
   "metadata": {},
   "outputs": [],
   "source": [
    "salaryblock = vacancy.find('span', salary_tags).text\n",
    "\n",
    "\n",
    "if salaryblock[:2] == 'от':\n",
    "    salary_min = ''.join(re.findall(r'[0-9]', salaryblock))\n",
    "    salary_max = None\n",
    "elif salaryblock[:2] == 'до':\n",
    "    salary_min = None\n",
    "    salary_max = ''.join(re.findall(r'[0-9]', salaryblock))\n",
    "else:\n",
    "    salary = salaryblock.split('-')\n",
    "    if len(salary) == 1:\n",
    "        salary_min = salary[0]\n",
    "        salary_max = salary[0]\n",
    "    else:\n",
    "        salary_min = ''.join(re.findall(r'[0-9]', salary[0]))\n",
    "        salary_max = ''.join(re.findall(r'[0-9]', salary[-1]))\n",
    "salary_min = int(salary_min)\n",
    "salary_max = int(salary_max)\n",
    "currency = salaryblock[-4:]      "
   ]
  },
  {
   "cell_type": "code",
   "execution_count": null,
   "metadata": {},
   "outputs": [],
   "source": [
    "salaryblock"
   ]
  },
  {
   "cell_type": "code",
   "execution_count": null,
   "metadata": {},
   "outputs": [],
   "source": [
    "print(salary_min)\n",
    "print(salary_max)\n",
    "print(currency)"
   ]
  },
  {
   "cell_type": "code",
   "execution_count": null,
   "metadata": {},
   "outputs": [],
   "source": [
    "type(salary_min)"
   ]
  },
  {
   "cell_type": "code",
   "execution_count": null,
   "metadata": {},
   "outputs": [],
   "source": [
    "link = vacancy.find_all('a', href=True)[0].get('href')"
   ]
  },
  {
   "cell_type": "code",
   "execution_count": null,
   "metadata": {},
   "outputs": [],
   "source": [
    "link"
   ]
  },
  {
   "cell_type": "code",
   "execution_count": null,
   "metadata": {},
   "outputs": [],
   "source": [
    "vacancy.find(class_=\"bloko-link bloko-link_secondary\").text"
   ]
  },
  {
   "cell_type": "code",
   "execution_count": null,
   "metadata": {},
   "outputs": [],
   "source": [
    "vacancy.find({'class':'bloko-link bloko-link_secondary'}).text"
   ]
  },
  {
   "cell_type": "markdown",
   "metadata": {},
   "source": [
    "# superjob"
   ]
  },
  {
   "cell_type": "code",
   "execution_count": 2,
   "metadata": {},
   "outputs": [],
   "source": [
    "from pprint import pprint\n",
    "from bs4 import BeautifulSoup as bs\n",
    "import requests\n",
    "import re\n",
    "import pandas as pd\n",
    "import time\n",
    "\n",
    "from getpage import getpage\n",
    "from name_cleener import sj_name_cleener\n",
    "\n",
    "### Временное\n",
    "vacancy_name = \"c#\"\n",
    "pg_num = 0\n",
    "###\n",
    "\n",
    "# создаем запрос и получаем ответ\n",
    "domain = 'https://www.superjob.ru'\n",
    "main_link = 'https://www.superjob.ru/vacancy/search/?keywords='\n",
    "page = str(pg_num)\n",
    "link = main_link + sj_name_cleener(vacancy_name) + '&page=' + str(page)\n",
    "print(f'Conneting to page № {pg_num}. {link}')\n",
    "bsObj = getpage(link)\n",
    "\n",
    "# создаем список элементов с названиями вакансий и  URL\n",
    "vacancy_list=[]\n",
    "url_list=[]\n",
    "\n",
    "tag = 'div'\n",
    "class_attrs = {'class':'_3mfro PlM3e _2JVkc _3LJqf'}\n",
    "vacancy_block = bsObj.findAll(tag, class_attrs)\n",
    "\n",
    "for vacancy in vacancy_block:\n",
    "    vacancy_list.append(vacancy.getText())\n",
    "    url_list.append(domain + vacancy.find('a', href=True)['href'])\n",
    "\n",
    "# создаем список работодателей\n",
    "employer_list=[]\n",
    "employer_block = bsObj.findAll(class_=employer_re)\n",
    "\n",
    "for i,employer in enumerate(employer_block):\n",
    "    employer_list.append(employer_block[i].getText())\n",
    "\n",
    "# создаем список ссылок на источник данных\n",
    "source_name_list = [domain] * 20\n",
    "\n",
    "# создаем список элементов с информациям по зарплатам\n",
    "salary_list = []\n",
    "tag = 'span'\n",
    "class_attrs = {'class':'_3mfro _2Wp8I PlM3e _2JVkc _2VHxz'}\n",
    "salary_block = bsObj.findAll(tag, class_attrs)\n",
    "\n",
    "for i,salary in enumerate(salary_block):\n",
    "    salary_list.append(salary.getText())\n",
    "    salary_list[i] = re.sub(\"\\xa0\",\"\",salary_list[i])\n",
    "\n",
    "min_salary = []\n",
    "max_salary = []\n",
    "currency_list = []\n",
    "\n",
    "for salary in salary_list:\n",
    "    if salary == 'По договорённости':\n",
    "        salary_min = None\n",
    "        salary_max = None\n",
    "        currency = None\n",
    "\n",
    "    else:\n",
    "        if salary[:2] == 'от':\n",
    "            salary_min = int(''.join(re.findall(r'[0-9]', salary)))\n",
    "            salary_max = None\n",
    "            currency = re.findall('[\\D]+$', salary)[-1]\n",
    "\n",
    "        elif salary[:2] == 'до':\n",
    "            salary_min = None\n",
    "            salary_max = int(''.join(re.findall(r'[0-9]', salary)))\n",
    "            currency = re.findall('[\\D]+$', salary)[-1]\n",
    "\n",
    "        else:\n",
    "            currency = re.findall('[\\D]+$', salary)[-1]\n",
    "            salary = re.split(r'—',salary)\n",
    "\n",
    "            if len(salary) == 1:\n",
    "                salary_min = int(''.join(re.findall(r'[0-9]', salary[0])))\n",
    "                salary_max = int(''.join(re.findall(r'[0-9]', salary[0])))\n",
    "\n",
    "            else:\n",
    "                salary_min = int(''.join(re.findall(r'[0-9]', salary[0])))\n",
    "                salary_max = int(''.join(re.findall(r'[0-9]', salary[-1])))\n",
    "      \n",
    "    min_salary.append(salary_min)\n",
    "    max_salary.append(salary_max)\n",
    "    currency_list.append(currency)\n",
    "\n",
    "# Создаем результирующий датафрейм\n",
    "df = pd.DataFrame()\n",
    "df['vacancy'] = pd.Series(vacancy_list)\n",
    "df['min_salary'] = pd.Series(min_salary)\n",
    "df['max_salary'] = pd.Series(max_salary)\n",
    "df['currency'] = pd.Series(currency_list)\n",
    "df['url'] = pd.Series(url_list)\n",
    "df['source'] = pd.Series(source_name_list)\n",
    "df['employer'] = pd.Series(employer_list)"
   ]
  },
  {
   "cell_type": "markdown",
   "metadata": {},
   "source": [
    "# Делаем пейджератор SJ"
   ]
  },
  {
   "cell_type": "code",
   "execution_count": null,
   "metadata": {},
   "outputs": [],
   "source": [
    "<span class=\"_3IDf-\">Дальше</span>"
   ]
  },
  {
   "cell_type": "code",
   "execution_count": null,
   "metadata": {},
   "outputs": [],
   "source": [
    "<span class=\"_23m0W\"><span class=\"_3IDf-\">Дальше</span></span>"
   ]
  },
  {
   "cell_type": "code",
   "execution_count": 309,
   "metadata": {},
   "outputs": [],
   "source": [
    "tag = 'span'\n",
    "#class_attrs = {'class':'_3IDf-'}\n",
    "class_attrs = {'class':'_23m0W'}"
   ]
  },
  {
   "cell_type": "code",
   "execution_count": 319,
   "metadata": {},
   "outputs": [
    {
     "data": {
      "text/plain": [
       "<span class=\"_23m0W\"><span class=\"_3IDf-\">Дальше</span></span>"
      ]
     },
     "execution_count": 319,
     "metadata": {},
     "output_type": "execute_result"
    }
   ],
   "source": [
    "bsObj.findAll(tag, class_attrs)[-4]"
   ]
  },
  {
   "cell_type": "code",
   "execution_count": 316,
   "metadata": {},
   "outputs": [],
   "source": [
    "bsObj.find('_23m0W')"
   ]
  },
  {
   "cell_type": "code",
   "execution_count": null,
   "metadata": {},
   "outputs": [],
   "source": [
    "#app > div > div._3R0rZ > div._1X8YL > div > div:nth-child(1) > div.iJCa5.undefined._1LlO2.X7voU._2nteL > div._3Qutk > div._1Ttd8._2CsQi > div._3zucV.undefined._3_4D0._3SGgo > div > div > a.icMQ_._1_Cht._3ze9n.f-test-button-dalshe.f-test-link-Dalshe > span > span"
   ]
  },
  {
   "cell_type": "code",
   "execution_count": 330,
   "metadata": {},
   "outputs": [
    {
     "data": {
      "text/plain": [
       "'/vacancy/search/?keywords=c%23&page=2'"
      ]
     },
     "execution_count": 330,
     "metadata": {},
     "output_type": "execute_result"
    }
   ],
   "source": [
    "a = bsObj.find(text='Дальше').parent.parent.parent.parent\n",
    "a['href']"
   ]
  },
  {
   "cell_type": "code",
   "execution_count": 332,
   "metadata": {},
   "outputs": [
    {
     "data": {
      "text/plain": [
       "'/vacancy/search/?keywords=c%23&page=2'"
      ]
     },
     "execution_count": 332,
     "metadata": {},
     "output_type": "execute_result"
    }
   ],
   "source": [
    "a = bsObj.find(text='Дальше').parent.parent.parent.parent['href']\n",
    "a"
   ]
  },
  {
   "cell_type": "code",
   "execution_count": 333,
   "metadata": {},
   "outputs": [
    {
     "data": {
      "text/plain": [
       "'https://www.superjob.ru/vacancy/search/?keywords=c%23&page=2'"
      ]
     },
     "execution_count": 333,
     "metadata": {},
     "output_type": "execute_result"
    }
   ],
   "source": [
    "domain+a"
   ]
  },
  {
   "cell_type": "code",
   "execution_count": null,
   "metadata": {},
   "outputs": [],
   "source": [
    "def sj_parcer(vacancy_name):\n",
    "    # создаем запрос и получаем ответ\n",
    "    domain = 'https://www.superjob.ru'\n",
    "    link_suffix = '/vacancy/search/?keywords='\n",
    "    link = domain + link_suffix + sj_name_cleener(vacancy_name)\n",
    "    \n",
    "    df, link = sj_page_parcer(link)\n",
    "    while link"
   ]
  },
  {
   "cell_type": "code",
   "execution_count": null,
   "metadata": {},
   "outputs": [],
   "source": [
    "def sj_page_parcer(link):\n",
    "    \n",
    "    "
   ]
  },
  {
   "cell_type": "code",
   "execution_count": 338,
   "metadata": {},
   "outputs": [
    {
     "data": {
      "text/plain": [
       "'https://www.superjob.ru/vacancy/search/?keywords=c%23'"
      ]
     },
     "execution_count": 338,
     "metadata": {},
     "output_type": "execute_result"
    }
   ],
   "source": [
    "\n",
    "link_suffix = '/vacancy/search/?keywords='\n",
    "link = domain + link_suffix + sj_name_cleener(vacancy_name) \n",
    "link"
   ]
  },
  {
   "cell_type": "code",
   "execution_count": 343,
   "metadata": {},
   "outputs": [
    {
     "name": "stdout",
     "output_type": "stream",
     "text": [
      "https://www.superjob.ru/vacancy/search/?keywords=c%2\n",
      "ok\n",
      "https://www.superjob.ru/vacancy/search/?keywords=c%\n",
      "ok\n",
      "https://www.superjob.ru/vacancy/search/?keywords=c\n",
      "ok\n",
      "https://www.superjob.ru/vacancy/search/?keywords=\n",
      "ok\n",
      "https://www.superjob.ru/vacancy/search/?keywords\n",
      "ok\n",
      "https://www.superjob.ru/vacancy/search/?keyword\n",
      "ok\n",
      "https://www.superjob.ru/vacancy/search/?keywor\n",
      "ok\n",
      "https://www.superjob.ru/vacancy/search/?keywo\n",
      "ok\n",
      "https://www.superjob.ru/vacancy/search/?keyw\n",
      "ok\n",
      "https://www.superjob.ru/vacancy/search/?key\n",
      "ok\n",
      "https://www.superjob.ru/vacancy/search/?ke\n",
      "ok\n",
      "https://www.superjob.ru/vacancy/search/?k\n",
      "ok\n",
      "https://www.superjob.ru/vacancy/search/?\n",
      "ok\n",
      "https://www.superjob.ru/vacancy/search/\n",
      "ok\n",
      "https://www.superjob.ru/vacancy/search\n",
      "ok\n",
      "https://www.superjob.ru/vacancy/searc\n",
      "ok\n",
      "https://www.superjob.ru/vacancy/sear\n",
      "ok\n",
      "https://www.superjob.ru/vacancy/sea\n",
      "ok\n",
      "https://www.superjob.ru/vacancy/se\n",
      "ok\n",
      "https://www.superjob.ru/vacancy/s\n",
      "ok\n",
      "https://www.superjob.ru/vacancy/\n",
      "ok\n",
      "https://www.superjob.ru/vacancy\n",
      "ok\n",
      "https://www.superjob.ru/vacanc\n",
      "ok\n",
      "https://www.superjob.ru/vacan\n",
      "ok\n",
      "https://www.superjob.ru/vaca\n",
      "ok\n",
      "https://www.superjob.ru/vac\n",
      "ok\n",
      "https://www.superjob.ru/va\n",
      "ok\n",
      "https://www.superjob.ru/v\n",
      "ok\n",
      "https://www.superjob.ru/\n",
      "ok\n",
      "https://www.superjob.ru\n",
      "ok\n",
      "https://www.superjob.r\n",
      "ok\n",
      "https://www.superjob.\n",
      "ok\n",
      "https://www.superjob\n",
      "ok\n",
      "https://www.superjo\n",
      "ok\n",
      "https://www.superj\n",
      "ok\n",
      "https://www.super\n",
      "ok\n",
      "https://www.supe\n",
      "ok\n",
      "https://www.sup\n",
      "ok\n",
      "https://www.su\n",
      "ok\n",
      "https://www.s\n",
      "ok\n",
      "https://www.\n",
      "ok\n",
      "https://www\n",
      "ok\n",
      "https://ww\n",
      "ok\n",
      "https://w\n",
      "ok\n",
      "https://\n",
      "ok\n",
      "https:/\n",
      "ok\n",
      "https:\n",
      "ok\n",
      "https\n",
      "ok\n",
      "http\n",
      "ok\n",
      "htt\n",
      "ok\n",
      "ht\n",
      "ok\n",
      "h\n",
      "ok\n",
      "\n",
      "ok\n"
     ]
    }
   ],
   "source": [
    "while link:\n",
    "    link = link[:-1]\n",
    "    print(link)\n",
    "    print('ok')"
   ]
  },
  {
   "cell_type": "code",
   "execution_count": 342,
   "metadata": {},
   "outputs": [
    {
     "data": {
      "text/plain": [
       "'https://www.superjob.ru/vacancy/search/?keywords=c'"
      ]
     },
     "execution_count": 342,
     "metadata": {},
     "output_type": "execute_result"
    }
   ],
   "source": [
    "link[:-1]"
   ]
  },
  {
   "cell_type": "code",
   "execution_count": 352,
   "metadata": {},
   "outputs": [
    {
     "data": {
      "text/html": [
       "<div>\n",
       "<style scoped>\n",
       "    .dataframe tbody tr th:only-of-type {\n",
       "        vertical-align: middle;\n",
       "    }\n",
       "\n",
       "    .dataframe tbody tr th {\n",
       "        vertical-align: top;\n",
       "    }\n",
       "\n",
       "    .dataframe thead th {\n",
       "        text-align: right;\n",
       "    }\n",
       "</style>\n",
       "<table border=\"1\" class=\"dataframe\">\n",
       "  <thead>\n",
       "    <tr style=\"text-align: right;\">\n",
       "      <th></th>\n",
       "    </tr>\n",
       "  </thead>\n",
       "  <tbody>\n",
       "  </tbody>\n",
       "</table>\n",
       "</div>"
      ],
      "text/plain": [
       "Empty DataFrame\n",
       "Columns: []\n",
       "Index: []"
      ]
     },
     "execution_count": 352,
     "metadata": {},
     "output_type": "execute_result"
    }
   ],
   "source": [
    "res = pd.DataFrame()\n",
    "res"
   ]
  },
  {
   "cell_type": "code",
   "execution_count": 356,
   "metadata": {},
   "outputs": [
    {
     "data": {
      "text/html": [
       "<div>\n",
       "<style scoped>\n",
       "    .dataframe tbody tr th:only-of-type {\n",
       "        vertical-align: middle;\n",
       "    }\n",
       "\n",
       "    .dataframe tbody tr th {\n",
       "        vertical-align: top;\n",
       "    }\n",
       "\n",
       "    .dataframe thead th {\n",
       "        text-align: right;\n",
       "    }\n",
       "</style>\n",
       "<table border=\"1\" class=\"dataframe\">\n",
       "  <thead>\n",
       "    <tr style=\"text-align: right;\">\n",
       "      <th></th>\n",
       "      <th>vacancy</th>\n",
       "      <th>min_salary</th>\n",
       "      <th>max_salary</th>\n",
       "      <th>currency</th>\n",
       "      <th>url</th>\n",
       "    </tr>\n",
       "  </thead>\n",
       "  <tbody>\n",
       "    <tr>\n",
       "      <th>0</th>\n",
       "      <td>Программист C# (для разработки систем АИИС КУЭ...</td>\n",
       "      <td>NaN</td>\n",
       "      <td>150000.0</td>\n",
       "      <td>руб.</td>\n",
       "      <td>https://www.superjob.ru/vakansii/programmist-c...</td>\n",
       "    </tr>\n",
       "    <tr>\n",
       "      <th>1</th>\n",
       "      <td>Программист C#</td>\n",
       "      <td>100000.0</td>\n",
       "      <td>NaN</td>\n",
       "      <td>руб.</td>\n",
       "      <td>https://www.superjob.ru/vakansii/programmist-c...</td>\n",
       "    </tr>\n",
       "    <tr>\n",
       "      <th>2</th>\n",
       "      <td>Senior C# /.NET developer</td>\n",
       "      <td>NaN</td>\n",
       "      <td>NaN</td>\n",
       "      <td>None</td>\n",
       "      <td>https://www.superjob.ru/vakansii/senior-c-3458...</td>\n",
       "    </tr>\n",
       "    <tr>\n",
       "      <th>3</th>\n",
       "      <td>Ведущий разработчик C#, .NET</td>\n",
       "      <td>140000.0</td>\n",
       "      <td>160000.0</td>\n",
       "      <td>руб.</td>\n",
       "      <td>https://www.superjob.ru/vakansii/veduschij-raz...</td>\n",
       "    </tr>\n",
       "    <tr>\n",
       "      <th>4</th>\n",
       "      <td>Программист C#</td>\n",
       "      <td>NaN</td>\n",
       "      <td>120000.0</td>\n",
       "      <td>руб.</td>\n",
       "      <td>https://www.superjob.ru/vakansii/programmist-c...</td>\n",
       "    </tr>\n",
       "    <tr>\n",
       "      <th>...</th>\n",
       "      <td>...</td>\n",
       "      <td>...</td>\n",
       "      <td>...</td>\n",
       "      <td>...</td>\n",
       "      <td>...</td>\n",
       "    </tr>\n",
       "    <tr>\n",
       "      <th>75</th>\n",
       "      <td>Программист 1C</td>\n",
       "      <td>100000.0</td>\n",
       "      <td>100000.0</td>\n",
       "      <td>руб.</td>\n",
       "      <td>https://www.superjob.ru/vakansii/programmist-1...</td>\n",
       "    </tr>\n",
       "    <tr>\n",
       "      <th>76</th>\n",
       "      <td>Руководитель группы разработки ПО (Team lead)</td>\n",
       "      <td>NaN</td>\n",
       "      <td>NaN</td>\n",
       "      <td>None</td>\n",
       "      <td>https://www.superjob.ru/vakansii/rukovoditel-g...</td>\n",
       "    </tr>\n",
       "    <tr>\n",
       "      <th>77</th>\n",
       "      <td>Инженер-программист С/С++ /Программист микроко...</td>\n",
       "      <td>NaN</td>\n",
       "      <td>150000.0</td>\n",
       "      <td>руб.</td>\n",
       "      <td>https://www.superjob.ru/vakansii/inzhener-prog...</td>\n",
       "    </tr>\n",
       "    <tr>\n",
       "      <th>78</th>\n",
       "      <td>Инженер, старший инженер (отдел аппаратно-прог...</td>\n",
       "      <td>45000.0</td>\n",
       "      <td>55000.0</td>\n",
       "      <td>руб.</td>\n",
       "      <td>https://www.superjob.ru/vakansii/inzhener-3008...</td>\n",
       "    </tr>\n",
       "    <tr>\n",
       "      <th>79</th>\n",
       "      <td>Программист С++</td>\n",
       "      <td>80000.0</td>\n",
       "      <td>NaN</td>\n",
       "      <td>руб.</td>\n",
       "      <td>https://www.superjob.ru/vakansii/programmist-s...</td>\n",
       "    </tr>\n",
       "  </tbody>\n",
       "</table>\n",
       "<p>80 rows × 5 columns</p>\n",
       "</div>"
      ],
      "text/plain": [
       "                                              vacancy  min_salary  max_salary  \\\n",
       "0   Программист C# (для разработки систем АИИС КУЭ...         NaN    150000.0   \n",
       "1                                      Программист C#    100000.0         NaN   \n",
       "2                           Senior C# /.NET developer         NaN         NaN   \n",
       "3                        Ведущий разработчик C#, .NET    140000.0    160000.0   \n",
       "4                                      Программист C#         NaN    120000.0   \n",
       "..                                                ...         ...         ...   \n",
       "75                                     Программист 1C    100000.0    100000.0   \n",
       "76      Руководитель группы разработки ПО (Team lead)         NaN         NaN   \n",
       "77  Инженер-программист С/С++ /Программист микроко...         NaN    150000.0   \n",
       "78  Инженер, старший инженер (отдел аппаратно-прог...     45000.0     55000.0   \n",
       "79                                    Программист С++     80000.0         NaN   \n",
       "\n",
       "   currency                                                url  \n",
       "0      руб.  https://www.superjob.ru/vakansii/programmist-c...  \n",
       "1      руб.  https://www.superjob.ru/vakansii/programmist-c...  \n",
       "2      None  https://www.superjob.ru/vakansii/senior-c-3458...  \n",
       "3      руб.  https://www.superjob.ru/vakansii/veduschij-raz...  \n",
       "4      руб.  https://www.superjob.ru/vakansii/programmist-c...  \n",
       "..      ...                                                ...  \n",
       "75     руб.  https://www.superjob.ru/vakansii/programmist-1...  \n",
       "76     None  https://www.superjob.ru/vakansii/rukovoditel-g...  \n",
       "77     руб.  https://www.superjob.ru/vakansii/inzhener-prog...  \n",
       "78     руб.  https://www.superjob.ru/vakansii/inzhener-3008...  \n",
       "79     руб.  https://www.superjob.ru/vakansii/programmist-s...  \n",
       "\n",
       "[80 rows x 5 columns]"
      ]
     },
     "execution_count": 356,
     "metadata": {},
     "output_type": "execute_result"
    }
   ],
   "source": [
    "res = pd.concat([res, df],ignore_index=True)\n",
    "res"
   ]
  },
  {
   "cell_type": "code",
   "execution_count": 370,
   "metadata": {},
   "outputs": [
    {
     "name": "stdout",
     "output_type": "stream",
     "text": [
      "                                              vacancy  min_salary  max_salary  \\\n",
      "0                         Ведущий инженер-программист     55000.0         NaN   \n",
      "1                        Программист Visual Basic.Net    100000.0         NaN   \n",
      "2           Программист (клиент-серверная разработка)         NaN         NaN   \n",
      "3                              Разработчик отчетности         NaN         NaN   \n",
      "4                                     Программист C++         NaN         NaN   \n",
      "5                             Системный администратор     80000.0         NaN   \n",
      "6       Специалист первой линии технической поддержки     24800.0     24800.0   \n",
      "7         Специалист отдела информационных технологий     43000.0     45000.0   \n",
      "8                                      Программист 1C    100000.0    100000.0   \n",
      "9                             Middle Delphi Developer    100000.0    120000.0   \n",
      "10                                Инженер-программист         NaN         NaN   \n",
      "11      Руководитель группы разработки ПО (Team lead)         NaN         NaN   \n",
      "12                                     Программист 1С     80000.0         NaN   \n",
      "13                                Инженер-программист     50000.0         NaN   \n",
      "14        Senior Android developer (удаленная работа)         NaN    280000.0   \n",
      "15  Ведущий специалист по сопровождению информацио...         NaN         NaN   \n",
      "16                    Системный аналитик (HR-системы)         NaN         NaN   \n",
      "17                                    Веб-программист     65000.0         NaN   \n",
      "18  Программист C# (для разработки систем АИИС КУЭ...         NaN    150000.0   \n",
      "19                            Системный администратор     50000.0         NaN   \n",
      "20                                Инженер-программист     90000.0    110000.0   \n",
      "21                                     Программист 1C         NaN         NaN   \n",
      "22           QA-специалист, QA-тестировщик (удаленно)         NaN    140000.0   \n",
      "23  Инженер-проектировщик информационных систем (C...         NaN    125000.0   \n",
      "24              Разработчик терминального ПО на С/С++         NaN         NaN   \n",
      "25                                Backend-разработчик         NaN    180000.0   \n",
      "26                   Инженер технической поддержки 1C         NaN     80000.0   \n",
      "27                                     Программист C#    100000.0         NaN   \n",
      "28                          Senior C# /.NET developer         NaN         NaN   \n",
      "29                                 Программист Delphi     60000.0         NaN   \n",
      "30                       Ведущий разработчик C#, .NET    140000.0    160000.0   \n",
      "31                            Системный администратор         NaN         NaN   \n",
      "32                              Программист fullstack         NaN     80000.0   \n",
      "33                                     Программист C#         NaN    150000.0   \n",
      "34                      Разработчик MS SQL (удаленно)         NaN         NaN   \n",
      "35                            Инженер-программист SQL         NaN         NaN   \n",
      "36  Инженер-тестировщик / QA engineer (ручное тест...         NaN     85000.0   \n",
      "37                                   Программист Java     70000.0     80000.0   \n",
      "38            Системный администратор / IT-специалист     60000.0     70000.0   \n",
      "39                        Ведущий инженер-программист         NaN     40000.0   \n",
      "40                    Инженер-программист 3 категории     38000.0         NaN   \n",
      "41                        Разработчик отчетности (BI)         NaN         NaN   \n",
      "42                               Инженер ядра системы     54000.0     61000.0   \n",
      "43                        Ведущий инженер-программист         NaN         NaN   \n",
      "44                                Инженер-программист    110000.0    130000.0   \n",
      "45  Senior/Techlead Java разработки (АС Единый сер...         NaN         NaN   \n",
      "46                    Системный администратор Windows         NaN         NaN   \n",
      "47                        Старший инженер-программист         NaN         NaN   \n",
      "48                                Инженер-программист         NaN         NaN   \n",
      "49         DBA OpenSource DB/Администратор баз данных         NaN         NaN   \n",
      "50                               QA Engineer (manual)         NaN         NaN   \n",
      "51                  Консультант Microsoft Dynamics AX         NaN         NaN   \n",
      "52         Технолог-администратор Naumen Service Deck     80000.0         NaN   \n",
      "53                                Инженер-программист         NaN         NaN   \n",
      "\n",
      "   currency                                                url  \\\n",
      "0      руб.  https://www.superjob.ru/vakansii/veduschij-inz...   \n",
      "1      руб.  https://www.superjob.ru/vakansii/programmist-v...   \n",
      "2      None  https://www.superjob.ru/vakansii/programmist-3...   \n",
      "3      None  https://www.superjob.ru/vakansii/razrabotchik-...   \n",
      "4      None  https://www.superjob.ru/vakansii/programmist-c...   \n",
      "5      руб.  https://www.superjob.ru/vakansii/sistemnyj-adm...   \n",
      "6      руб.  https://www.superjob.ru/vakansii/specialist-pe...   \n",
      "7      руб.  https://www.superjob.ru/vakansii/specialist-ot...   \n",
      "8      руб.  https://www.superjob.ru/vakansii/programmist-1...   \n",
      "9      руб.  https://www.superjob.ru/vakansii/middle-delphi...   \n",
      "10     None  https://www.superjob.ru/vakansii/inzhener-prog...   \n",
      "11     None  https://www.superjob.ru/vakansii/rukovoditel-g...   \n",
      "12     руб.  https://www.superjob.ru/vakansii/programmist-1...   \n",
      "13     руб.  https://www.superjob.ru/vakansii/inzhener-prog...   \n",
      "14     руб.  https://www.superjob.ru/vakansii/senior-androi...   \n",
      "15     None  https://www.superjob.ru/vakansii/veduschij-spe...   \n",
      "16     None  https://www.superjob.ru/vakansii/sistemnyj-ana...   \n",
      "17     руб.  https://www.superjob.ru/vakansii/veb-programmi...   \n",
      "18     руб.  https://www.superjob.ru/vakansii/programmist-c...   \n",
      "19     руб.  https://www.superjob.ru/vakansii/sistemnyj-adm...   \n",
      "20     руб.  https://www.superjob.ru/vakansii/inzhener-prog...   \n",
      "21     None  https://www.superjob.ru/vakansii/programmist-1...   \n",
      "22     руб.  https://www.superjob.ru/vakansii/qa-specialist...   \n",
      "23     руб.  https://www.superjob.ru/vakansii/inzhener-proe...   \n",
      "24     None  https://www.superjob.ru/vakansii/razrabotchik-...   \n",
      "25     руб.  https://www.superjob.ru/vakansii/backend-razra...   \n",
      "26     руб.  https://www.superjob.ru/vakansii/inzhener-tehn...   \n",
      "27     руб.  https://www.superjob.ru/vakansii/programmist-c...   \n",
      "28     None  https://www.superjob.ru/vakansii/senior-c-3458...   \n",
      "29     руб.  https://www.superjob.ru/vakansii/programmist-d...   \n",
      "30     руб.  https://www.superjob.ru/vakansii/veduschij-raz...   \n",
      "31     None  https://www.superjob.ru/vakansii/sistemnyj-adm...   \n",
      "32     руб.  https://www.superjob.ru/vakansii/programmist-f...   \n",
      "33     руб.  https://www.superjob.ru/vakansii/programmist-c...   \n",
      "34     None  https://www.superjob.ru/vakansii/razrabotchik-...   \n",
      "35     None  https://www.superjob.ru/vakansii/inzhener-prog...   \n",
      "36     руб.  https://www.superjob.ru/vakansii/inzhener-test...   \n",
      "37     руб.  https://www.superjob.ru/vakansii/programmist-j...   \n",
      "38     руб.  https://www.superjob.ru/vakansii/sistemnyj-adm...   \n",
      "39     руб.  https://www.superjob.ru/vakansii/veduschij-inz...   \n",
      "40     руб.  https://www.superjob.ru/vakansii/inzhener-prog...   \n",
      "41     None  https://www.superjob.ru/vakansii/razrabotchik-...   \n",
      "42     руб.  https://www.superjob.ru/vakansii/inzhener-yadr...   \n",
      "43     None  https://www.superjob.ru/vakansii/veduschij-inz...   \n",
      "44     руб.  https://www.superjob.ru/vakansii/inzhener-prog...   \n",
      "45     None  https://www.superjob.ru/vakansii/senior-347678...   \n",
      "46     None  https://www.superjob.ru/vakansii/sistemnyj-adm...   \n",
      "47     None  https://www.superjob.ru/vakansii/starshij-inzh...   \n",
      "48     None  https://www.superjob.ru/vakansii/inzhener-prog...   \n",
      "49     None  https://www.superjob.ru/vakansii/dba-opensourc...   \n",
      "50     None  https://www.superjob.ru/vakansii/qa-engineer-3...   \n",
      "51     None  https://www.superjob.ru/vakansii/konsultant-mi...   \n",
      "52     руб.  https://www.superjob.ru/vakansii/tehnolog-admi...   \n",
      "53     None  https://www.superjob.ru/vakansii/inzhener-prog...   \n",
      "\n",
      "                     source                                           employer  \n",
      "0   https://www.superjob.ru  «Северо-Западный региональный центр Концерна В...  \n",
      "1   https://www.superjob.ru                                     ЦКБ МТ \"Рубин\"  \n",
      "2   https://www.superjob.ru                                          Конфидент  \n",
      "3   https://www.superjob.ru                                     1000 и 1 сумка  \n",
      "4   https://www.superjob.ru                                Дэйлсофт (DaleSoft)  \n",
      "5   https://www.superjob.ru                                Балтийский текстиль  \n",
      "6   https://www.superjob.ru  ГБУЗ Ленинградская областная клиническая больница  \n",
      "7   https://www.superjob.ru                                   ГОУ ВПО СПбГИПСР  \n",
      "8   https://www.superjob.ru                                          УК Грандо  \n",
      "9   https://www.superjob.ru                                           ЕвроАвто  \n",
      "10  https://www.superjob.ru  ФБГУ \"НМИЦ онкологии им. Н. Н. Петрова\" Минздр...  \n",
      "11  https://www.superjob.ru                            \"Институт \"Стройпроект\"  \n",
      "12  https://www.superjob.ru                                         СМ-Клиника  \n",
      "13  https://www.superjob.ru  ФГБУ \"Национальный медицинский исследовательск...  \n",
      "14  https://www.superjob.ru                                    Global Personal  \n",
      "15  https://www.superjob.ru                                            218 АРЗ  \n",
      "16  https://www.superjob.ru                                              О'КЕЙ  \n",
      "17  https://www.superjob.ru  «Северо-Западный региональный центр Концерна В...  \n",
      "18  https://www.superjob.ru         Петербургский завод измерительных приборов  \n",
      "19  https://www.superjob.ru                             Торговая сеть \"ФЕРМЕР\"  \n",
      "20  https://www.superjob.ru                                     ЦКБ МТ \"Рубин\"  \n",
      "21  https://www.superjob.ru                                   \"УК \"ГСР Энерго\"  \n",
      "22  https://www.superjob.ru                            Консалтинговая компания  \n",
      "23  https://www.superjob.ru                             \"Концерн \"НПО \"Аврора\"  \n",
      "24  https://www.superjob.ru                                        Smart Hotel  \n",
      "25  https://www.superjob.ru                     Федеральное агентство новостей  \n",
      "26  https://www.superjob.ru                                             Акросс  \n",
      "27  https://www.superjob.ru                                         Окна Форте  \n",
      "28  https://www.superjob.ru                                Группа Компаний MVS  \n",
      "29  https://www.superjob.ru                                          Стаффмикс  \n",
      "30  https://www.superjob.ru                                    КонсалтПромТорг  \n",
      "31  https://www.superjob.ru                             Группа компаний \"ТОМС\"  \n",
      "32  https://www.superjob.ru                                     АНО ВО НОИ СПБ  \n",
      "33  https://www.superjob.ru                             НПК Морсвязьавтоматика  \n",
      "34  https://www.superjob.ru                                       585, Золотой  \n",
      "35  https://www.superjob.ru                                            218 АРЗ  \n",
      "36  https://www.superjob.ru                                    Global Personal  \n",
      "37  https://www.superjob.ru                                               АКМА  \n",
      "38  https://www.superjob.ru                          Городская поликлиника №34  \n",
      "39  https://www.superjob.ru                                       Почта России  \n",
      "40  https://www.superjob.ru                               ГОЗ Обуховский завод  \n",
      "41  https://www.superjob.ru                                              О'КЕЙ  \n",
      "42  https://www.superjob.ru                             АРКАН, Группа компаний  \n",
      "43  https://www.superjob.ru                                   Балтийский завод  \n",
      "44  https://www.superjob.ru                                     ЦКБ МТ \"Рубин\"  \n",
      "45  https://www.superjob.ru                                    Сбербанк России  \n",
      "46  https://www.superjob.ru                                          ИнфоСтрой  \n",
      "47  https://www.superjob.ru                                             Морион  \n",
      "48  https://www.superjob.ru  Российский институт радионавигации и времени (...  \n",
      "49  https://www.superjob.ru                         Лабораторная служба Хеликс  \n",
      "50  https://www.superjob.ru                                            Кавычки  \n",
      "51  https://www.superjob.ru             Северо-Запад, фармацевтический холдинг  \n",
      "52  https://www.superjob.ru                                                ОМС  \n",
      "53  https://www.superjob.ru                                          НПО СПАРК  \n"
     ]
    }
   ],
   "source": [
    "import re\n",
    "import pandas as pd\n",
    "import time\n",
    "\n",
    "from getpage import getpage\n",
    "from name_cleener import sj_name_cleener\n",
    "\n",
    "domain = 'https://www.superjob.ru'\n",
    "\n",
    "\n",
    "def sj_page_parcer(link):\n",
    "    # print(f'Conneting to page {link}')\n",
    "    bsObj = getpage(link)\n",
    "\n",
    "    # создаем список элементов с названиями вакансий и  URL\n",
    "    vacancy_list = []\n",
    "    url_list = []\n",
    "\n",
    "    tag = 'div'\n",
    "    class_attrs = {'class': '_3mfro PlM3e _2JVkc _3LJqf'}\n",
    "    vacancy_block = bsObj.findAll(tag, class_attrs)\n",
    "\n",
    "    for vacancy in vacancy_block:\n",
    "        vacancy_list.append(vacancy.getText())\n",
    "        url_list.append(domain + vacancy.find('a', href=True)['href'])\n",
    "\n",
    "    # создаем список работодателей\n",
    "    employer_list = []\n",
    "    employer_block = bsObj.findAll(class_=employer_re)\n",
    "\n",
    "    for i, employer in enumerate(employer_block):\n",
    "        employer_list.append(employer_block[i].getText())\n",
    "\n",
    "    # создаем список ссылок на источник данных\n",
    "    source_name_list = [domain] * 20\n",
    "\n",
    "    # создаем список элементов с информациям по зарплатам\n",
    "    salary_list = []\n",
    "    tag = 'span'\n",
    "    class_attrs = {'class': '_3mfro _2Wp8I PlM3e _2JVkc _2VHxz'}\n",
    "    salary_block = bsObj.findAll(tag, class_attrs)\n",
    "\n",
    "    for i, salary in enumerate(salary_block):\n",
    "        salary_list.append(salary.getText())\n",
    "        salary_list[i] = re.sub(\"\\xa0\", \"\", salary_list[i])\n",
    "\n",
    "    min_salary = []\n",
    "    max_salary = []\n",
    "    currency_list = []\n",
    "\n",
    "    for salary in salary_list:\n",
    "        if salary == 'По договорённости':\n",
    "            salary_min = None\n",
    "            salary_max = None\n",
    "            currency = None\n",
    "\n",
    "        else:\n",
    "            if salary[:2] == 'от':\n",
    "                salary_min = int(''.join(re.findall(r'[0-9]', salary)))\n",
    "                salary_max = None\n",
    "                currency = re.findall('[\\D]+$', salary)[-1]\n",
    "\n",
    "            elif salary[:2] == 'до':\n",
    "                salary_min = None\n",
    "                salary_max = int(''.join(re.findall(r'[0-9]', salary)))\n",
    "                currency = re.findall('[\\D]+$', salary)[-1]\n",
    "\n",
    "            else:\n",
    "                currency = re.findall('[\\D]+$', salary)[-1]\n",
    "                salary = re.split(r'—', salary)\n",
    "\n",
    "                if len(salary) == 1:\n",
    "                    salary_min = int(''.join(re.findall(r'[0-9]', salary[0])))\n",
    "                    salary_max = int(''.join(re.findall(r'[0-9]', salary[0])))\n",
    "\n",
    "                else:\n",
    "                    salary_min = int(''.join(re.findall(r'[0-9]', salary[0])))\n",
    "                    salary_max = int(''.join(re.findall(r'[0-9]', salary[-1])))\n",
    "\n",
    "        min_salary.append(salary_min)\n",
    "        max_salary.append(salary_max)\n",
    "        currency_list.append(currency)\n",
    "\n",
    "    # Создаем результирующий датaфрейм\n",
    "    df = pd.DataFrame()\n",
    "    df['vacancy'] = pd.Series(vacancy_list)\n",
    "    df['min_salary'] = pd.Series(min_salary)\n",
    "    df['max_salary'] = pd.Series(max_salary)\n",
    "    df['currency'] = pd.Series(currency_list)\n",
    "    df['url'] = pd.Series(url_list)\n",
    "    df['source'] = pd.Series(source_name_list)\n",
    "    df['employer'] = pd.Series(employer_list)\n",
    "\n",
    "    # обрабатываем пейджератор\n",
    "    try:\n",
    "        next_link = domain + bsObj.find(text='Дальше').parent.parent.parent.parent['href']\n",
    "    except:\n",
    "        next_link = None\n",
    "    time.sleep(1)\n",
    "    return df, next_link\n",
    "\n",
    "\n",
    "def sj_parcer(vacancy_name):\n",
    "    # Запускаем проход по страницам:\n",
    "    df = pd.DataFrame()\n",
    "    link_suffix = '/vacancy/search/?keywords='\n",
    "    link = domain + link_suffix + sj_name_cleener(vacancy_name)\n",
    "    res, link = sj_page_parcer(link)\n",
    "    df = pd.concat([res, df], ignore_index=True)\n",
    "    while link:\n",
    "        res, link = sj_page_parcer(link)\n",
    "        df = pd.concat([res, df], ignore_index=True)\n",
    "    return df\n",
    "\n",
    "### ОТЛАДКА\n",
    "df = sj_parcer('sql')\n",
    "print(df)\n"
   ]
  },
  {
   "cell_type": "code",
   "execution_count": null,
   "metadata": {},
   "outputs": [],
   "source": []
  },
  {
   "cell_type": "markdown",
   "metadata": {},
   "source": [
    "# *** pagerator for HH"
   ]
  },
  {
   "cell_type": "code",
   "execution_count": 373,
   "metadata": {},
   "outputs": [],
   "source": [
    "import pandas as pd\n",
    "import time\n",
    "\n",
    "from name_cleener import hh_name_cleener\n",
    "from HH_vac_block_parcer import get_info\n",
    "from getpage import getpage\n",
    "\n",
    "domain = 'https://www.hh.ru'\n",
    "\n",
    "\n",
    "def hh_page_parcer(link):\n",
    "\n",
    "    # Создаем списки целевых показателей:\n",
    "    vacancy_list = []\n",
    "    min_salary = []\n",
    "    max_salary = []\n",
    "    url_list = []\n",
    "    currency_list = []\n",
    "    source_name_list = []\n",
    "    employer_list = []\n",
    "\n",
    "    print(f'Conneting to page {link}')\n",
    "    soup = getpage(link)\n",
    "\n",
    "    # ищем блок с вакансиями\n",
    "    vacancy_block = soup.find_all('div', class_='vacancy-serp-item')\n",
    "\n",
    "    for vacancy in vacancy_block:\n",
    "        vac_name, salary_min, salary_max, currency, link, employer = get_info(vacancy)\n",
    "        vacancy_list.append(vac_name)\n",
    "        min_salary.append(salary_min)\n",
    "        max_salary.append(salary_max)\n",
    "        currency_list.append(currency)\n",
    "        url_list.append(link)\n",
    "        source_name_list.append(domain)\n",
    "        employer_list.append(employer)\n",
    "\n",
    "    # Создаем результирующий датафрейм\n",
    "    df = pd.DataFrame()\n",
    "    df['vacancy'] = pd.Series(vacancy_list)\n",
    "    df['min_salary'] = pd.Series(min_salary)\n",
    "    df['max_salary'] = pd.Series(max_salary)\n",
    "    df['currency'] = pd.Series(currency_list)\n",
    "    df['url'] = pd.Series(url_list)\n",
    "    df['source'] = pd.Series(source_name_list)\n",
    "    df['employer'] = pd.Series(employer_list)\n",
    "    \n",
    "    # обрабатываем пейджератор\n",
    "    try:\n",
    "        next_link = domain + bsObj.find(text='Дальше').parent.parent.parent.parent['href']\n",
    "    except:\n",
    "        next_link = None\n",
    "\n",
    "    time.sleep(1)\n",
    "    return df, next_link\n",
    "\n",
    "def hh_parcer(vacancy_name):\n",
    "    # Запускаем проход по страницам:\n",
    "    df = pd.DataFrame()\n",
    "    link_suffix = main_link = '/search/vacancy?text='\n",
    "    link = domain + link_suffix + hh_name_cleener(vacancy_name)\n",
    "    res, link = hh_page_parcer(link)\n",
    "    df = pd.concat([res, df], ignore_index=True)\n",
    "    while link:\n",
    "        res, link = sj_page_parcer(link)\n",
    "        df = pd.concat([res, df], ignore_index=True)\n",
    "    print(f'{len(df)} vacancies was found')\n",
    "    return df"
   ]
  },
  {
   "cell_type": "code",
   "execution_count": 374,
   "metadata": {},
   "outputs": [
    {
     "name": "stdout",
     "output_type": "stream",
     "text": [
      "Conneting to page https://www.hh.ru/search/vacancy?text=sql\n",
      "('SQL Server DBA Bi Developer', None, None, None, 'https://spb.hh.ru/vacancy/39706709?query=sql', ' ARGO - торговая сеть') is parced\n",
      "('Разработчик Oracle (PL/SQL)', 2000, 3000, ' USD', 'https://spb.hh.ru/vacancy/39468435?query=sql', ' Кадровое агентство Алексея Сухорукова') is parced\n",
      "('Разработчик PL/SQL', 120000, 150000, 'руб.', 'https://spb.hh.ru/vacancy/39650419?query=sql', ' Открытые Технологии') is parced\n",
      "('Разработчик SQL', None, None, None, 'https://spb.hh.ru/vacancy/39940525?query=sql', 'ООО АБП') is parced\n",
      "('Программист SQL', None, None, None, 'https://spb.hh.ru/vacancy/40008083?query=sql', 'ООО Аврора-ИТ') is parced\n",
      "('Разработчик Oracle PL/SQL', None, None, None, 'https://spb.hh.ru/vacancy/39956055?query=sql', ' Hyundai GLOVIS') is parced\n"
     ]
    },
    {
     "ename": "AttributeError",
     "evalue": "'NoneType' object has no attribute 'text'",
     "output_type": "error",
     "traceback": [
      "\u001b[0;31m---------------------------------------------------------------------------\u001b[0m",
      "\u001b[0;31mAttributeError\u001b[0m                            Traceback (most recent call last)",
      "\u001b[0;32m<ipython-input-374-1554e8b1dc70>\u001b[0m in \u001b[0;36m<module>\u001b[0;34m\u001b[0m\n\u001b[0;32m----> 1\u001b[0;31m \u001b[0mhh_parcer\u001b[0m\u001b[0;34m(\u001b[0m\u001b[0;34m'sql'\u001b[0m\u001b[0;34m)\u001b[0m\u001b[0;34m\u001b[0m\u001b[0;34m\u001b[0m\u001b[0m\n\u001b[0m",
      "\u001b[0;32m<ipython-input-373-a87b722f14f9>\u001b[0m in \u001b[0;36mhh_parcer\u001b[0;34m(vacancy_name)\u001b[0m\n\u001b[1;32m     60\u001b[0m     \u001b[0mlink_suffix\u001b[0m \u001b[0;34m=\u001b[0m \u001b[0mmain_link\u001b[0m \u001b[0;34m=\u001b[0m \u001b[0;34m'/search/vacancy?text='\u001b[0m\u001b[0;34m\u001b[0m\u001b[0;34m\u001b[0m\u001b[0m\n\u001b[1;32m     61\u001b[0m     \u001b[0mlink\u001b[0m \u001b[0;34m=\u001b[0m \u001b[0mdomain\u001b[0m \u001b[0;34m+\u001b[0m \u001b[0mlink_suffix\u001b[0m \u001b[0;34m+\u001b[0m \u001b[0mhh_name_cleener\u001b[0m\u001b[0;34m(\u001b[0m\u001b[0mvacancy_name\u001b[0m\u001b[0;34m)\u001b[0m\u001b[0;34m\u001b[0m\u001b[0;34m\u001b[0m\u001b[0m\n\u001b[0;32m---> 62\u001b[0;31m     \u001b[0mres\u001b[0m\u001b[0;34m,\u001b[0m \u001b[0mlink\u001b[0m \u001b[0;34m=\u001b[0m \u001b[0mhh_page_parcer\u001b[0m\u001b[0;34m(\u001b[0m\u001b[0mlink\u001b[0m\u001b[0;34m)\u001b[0m\u001b[0;34m\u001b[0m\u001b[0;34m\u001b[0m\u001b[0m\n\u001b[0m\u001b[1;32m     63\u001b[0m     \u001b[0mdf\u001b[0m \u001b[0;34m=\u001b[0m \u001b[0mpd\u001b[0m\u001b[0;34m.\u001b[0m\u001b[0mconcat\u001b[0m\u001b[0;34m(\u001b[0m\u001b[0;34m[\u001b[0m\u001b[0mres\u001b[0m\u001b[0;34m,\u001b[0m \u001b[0mdf\u001b[0m\u001b[0;34m]\u001b[0m\u001b[0;34m,\u001b[0m \u001b[0mignore_index\u001b[0m\u001b[0;34m=\u001b[0m\u001b[0;32mTrue\u001b[0m\u001b[0;34m)\u001b[0m\u001b[0;34m\u001b[0m\u001b[0;34m\u001b[0m\u001b[0m\n\u001b[1;32m     64\u001b[0m     \u001b[0;32mwhile\u001b[0m \u001b[0mlink\u001b[0m\u001b[0;34m:\u001b[0m\u001b[0;34m\u001b[0m\u001b[0;34m\u001b[0m\u001b[0m\n",
      "\u001b[0;32m<ipython-input-373-a87b722f14f9>\u001b[0m in \u001b[0;36mhh_page_parcer\u001b[0;34m(link)\u001b[0m\n\u001b[1;32m     27\u001b[0m \u001b[0;34m\u001b[0m\u001b[0m\n\u001b[1;32m     28\u001b[0m     \u001b[0;32mfor\u001b[0m \u001b[0mvacancy\u001b[0m \u001b[0;32min\u001b[0m \u001b[0mvacancy_block\u001b[0m\u001b[0;34m:\u001b[0m\u001b[0;34m\u001b[0m\u001b[0;34m\u001b[0m\u001b[0m\n\u001b[0;32m---> 29\u001b[0;31m         \u001b[0mvac_name\u001b[0m\u001b[0;34m,\u001b[0m \u001b[0msalary_min\u001b[0m\u001b[0;34m,\u001b[0m \u001b[0msalary_max\u001b[0m\u001b[0;34m,\u001b[0m \u001b[0mcurrency\u001b[0m\u001b[0;34m,\u001b[0m \u001b[0mlink\u001b[0m\u001b[0;34m,\u001b[0m \u001b[0memployer\u001b[0m \u001b[0;34m=\u001b[0m \u001b[0mget_info\u001b[0m\u001b[0;34m(\u001b[0m\u001b[0mvacancy\u001b[0m\u001b[0;34m)\u001b[0m\u001b[0;34m\u001b[0m\u001b[0;34m\u001b[0m\u001b[0m\n\u001b[0m\u001b[1;32m     30\u001b[0m         \u001b[0mvacancy_list\u001b[0m\u001b[0;34m.\u001b[0m\u001b[0mappend\u001b[0m\u001b[0;34m(\u001b[0m\u001b[0mvac_name\u001b[0m\u001b[0;34m)\u001b[0m\u001b[0;34m\u001b[0m\u001b[0;34m\u001b[0m\u001b[0m\n\u001b[1;32m     31\u001b[0m         \u001b[0mmin_salary\u001b[0m\u001b[0;34m.\u001b[0m\u001b[0mappend\u001b[0m\u001b[0;34m(\u001b[0m\u001b[0msalary_min\u001b[0m\u001b[0;34m)\u001b[0m\u001b[0;34m\u001b[0m\u001b[0;34m\u001b[0m\u001b[0m\n",
      "\u001b[0;32m~/GoogleDrive/Learning/geekbrains/1_parcing/homeworks_2/hw2/HH_vac_block_parcer.py\u001b[0m in \u001b[0;36mget_info\u001b[0;34m(vacancy)\u001b[0m\n\u001b[1;32m     47\u001b[0m \u001b[0;34m\u001b[0m\u001b[0m\n\u001b[1;32m     48\u001b[0m     \u001b[0;31m#  Работодатель\u001b[0m\u001b[0;34m\u001b[0m\u001b[0;34m\u001b[0m\u001b[0;34m\u001b[0m\u001b[0m\n\u001b[0;32m---> 49\u001b[0;31m     \u001b[0;31m#employer = vacancy.find(class_=\"bloko-link bloko-link_secondary\").text\u001b[0m\u001b[0;34m\u001b[0m\u001b[0;34m\u001b[0m\u001b[0;34m\u001b[0m\u001b[0m\n\u001b[0m\u001b[1;32m     50\u001b[0m \u001b[0;34m\u001b[0m\u001b[0m\n\u001b[1;32m     51\u001b[0m     \u001b[0memployer\u001b[0m \u001b[0;34m=\u001b[0m \u001b[0mvacancy\u001b[0m\u001b[0;34m.\u001b[0m\u001b[0mfind\u001b[0m\u001b[0;34m(\u001b[0m\u001b[0mdata\u001b[0m\u001b[0;34m-\u001b[0m\u001b[0mqa_\u001b[0m\u001b[0;34m=\u001b[0m\u001b[0;34m\"vacancy-serp__vacancy-employer\"\u001b[0m\u001b[0;34m)\u001b[0m\u001b[0;34m.\u001b[0m\u001b[0mtext\u001b[0m\u001b[0;34m\u001b[0m\u001b[0;34m\u001b[0m\u001b[0m\n",
      "\u001b[0;31mAttributeError\u001b[0m: 'NoneType' object has no attribute 'text'"
     ]
    }
   ],
   "source": [
    "hh_parcer('sql')"
   ]
  },
  {
   "cell_type": "code",
   "execution_count": null,
   "metadata": {},
   "outputs": [],
   "source": []
  }
 ],
 "metadata": {
  "kernelspec": {
   "display_name": "Python 3",
   "language": "python",
   "name": "python3"
  },
  "language_info": {
   "codemirror_mode": {
    "name": "ipython",
    "version": 3
   },
   "file_extension": ".py",
   "mimetype": "text/x-python",
   "name": "python",
   "nbconvert_exporter": "python",
   "pygments_lexer": "ipython3",
   "version": "3.8.3"
  }
 },
 "nbformat": 4,
 "nbformat_minor": 4
}
