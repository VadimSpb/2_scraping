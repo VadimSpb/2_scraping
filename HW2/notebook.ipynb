{
 "cells": [
  {
   "cell_type": "code",
   "execution_count": null,
   "metadata": {},
   "outputs": [],
   "source": [
    "import re\n",
    "import pandas as pd\n",
    "import requests\n",
    "import time\n",
    "\n",
    "from bs4 import BeautifulSoup as bs\n",
    "from vac_name_cleener import vac_name_cleener\n",
    "from HH_vac_block_parcer import get_info"
   ]
  },
  {
   "cell_type": "code",
   "execution_count": null,
   "metadata": {},
   "outputs": [],
   "source": [
    "vacancy_name = 'sql'"
   ]
  },
  {
   "cell_type": "code",
   "execution_count": null,
   "metadata": {},
   "outputs": [],
   "source": [
    "vacancy_name = vac_name_cleener(vacancy_name)\n",
    "\n",
    "vacancy_list = []\n",
    "salary_list = []\n",
    "min_salary = []\n",
    "max_salary = []\n",
    "url_list = []\n",
    "currency_list = []\n",
    "source_name_list = []\n",
    "employer_list = []\n"
   ]
  },
  {
   "cell_type": "code",
   "execution_count": null,
   "metadata": {},
   "outputs": [],
   "source": [
    "pages = 1  # !!!!!!!!!!!!!!!!!!!!!!!!!\n"
   ]
  },
  {
   "cell_type": "code",
   "execution_count": null,
   "metadata": {},
   "outputs": [],
   "source": [
    "domain = 'hh.ru'\n",
    "main_link = 'https://hh.ru/search/vacancy?text='"
   ]
  },
  {
   "cell_type": "code",
   "execution_count": null,
   "metadata": {},
   "outputs": [],
   "source": [
    "headers = {\n",
    "    'User-Agent': 'Mozilla/5.0 (Windows NT 6.1; Win64; x64) \\\n",
    "     AppleWebKit/537.36 (KHTML, like Gecko) \\\n",
    "     Chrome/76.0.3809.100 Safari/537.36 OPR/63.0.3368.53'\n",
    "}"
   ]
  },
  {
   "cell_type": "code",
   "execution_count": null,
   "metadata": {},
   "outputs": [],
   "source": [
    "pg_num = '2'"
   ]
  },
  {
   "cell_type": "code",
   "execution_count": null,
   "metadata": {},
   "outputs": [],
   "source": [
    "page = str(pg_num);\n",
    "page"
   ]
  },
  {
   "cell_type": "code",
   "execution_count": null,
   "metadata": {},
   "outputs": [],
   "source": [
    "link = main_link + vacancy_name + '&page=' + page\n",
    "link"
   ]
  },
  {
   "cell_type": "code",
   "execution_count": null,
   "metadata": {},
   "outputs": [],
   "source": [
    "html = requests.get(link, headers=headers)\n",
    "html"
   ]
  },
  {
   "cell_type": "code",
   "execution_count": null,
   "metadata": {},
   "outputs": [],
   "source": [
    "soup = bs(html.text, 'lxml')"
   ]
  },
  {
   "cell_type": "code",
   "execution_count": null,
   "metadata": {},
   "outputs": [],
   "source": []
  },
  {
   "cell_type": "code",
   "execution_count": null,
   "metadata": {},
   "outputs": [],
   "source": [
    "htmlout = str(soup)\n",
    "with open(\"soup.html\", \"w\") as file:\n",
    "    file.write(htmlout)"
   ]
  },
  {
   "cell_type": "code",
   "execution_count": null,
   "metadata": {},
   "outputs": [],
   "source": [
    "vacancy_block = soup.find_all('div', class_='vacancy-serp-item') # 50 vacs was found"
   ]
  },
  {
   "cell_type": "code",
   "execution_count": null,
   "metadata": {},
   "outputs": [],
   "source": [
    "len(vacancy_block)"
   ]
  },
  {
   "cell_type": "markdown",
   "metadata": {},
   "source": [
    "### * * * * * * "
   ]
  },
  {
   "cell_type": "code",
   "execution_count": null,
   "metadata": {},
   "outputs": [],
   "source": [
    "vacancy = vacancy_block[8]"
   ]
  },
  {
   "cell_type": "code",
   "execution_count": null,
   "metadata": {},
   "outputs": [],
   "source": [
    "len(vacancy)"
   ]
  },
  {
   "cell_type": "code",
   "execution_count": null,
   "metadata": {},
   "outputs": [],
   "source": [
    "# должность\n",
    "vacancy.find_all('a', href=True)[0].text"
   ]
  },
  {
   "cell_type": "code",
   "execution_count": null,
   "metadata": {},
   "outputs": [],
   "source": [
    "for i in range(len(vacancy.find_all('a', href=True))):\n",
    "    print(i, vacancy.find_all('a', href=True)[i].text)"
   ]
  },
  {
   "cell_type": "code",
   "execution_count": null,
   "metadata": {},
   "outputs": [],
   "source": [
    "# работодатель\n",
    "employers_tags = {\"class\":\"bloko-link bloko-link_secondary\", \"data-qa\":\"vacancy-serp__vacancy-employer\"}\n",
    "vacancy.find(\"a\", employers_tags).text"
   ]
  },
  {
   "cell_type": "code",
   "execution_count": null,
   "metadata": {},
   "outputs": [],
   "source": [
    "<span class=\"vacancy-serp-item__meta-info\" data-qa=\"vacancy-serp__vacancy-address\">Саратов</span>"
   ]
  },
  {
   "cell_type": "code",
   "execution_count": null,
   "metadata": {},
   "outputs": [],
   "source": [
    "salary_tags = {'class':'bloko-section-header-3 bloko-section-header-3_lite',\n",
    "               'data-qa':'vacancy-serp__vacancy-compensation'}\n",
    "vacancy.find('span', salary_tags) is None"
   ]
  },
  {
   "cell_type": "code",
   "execution_count": null,
   "metadata": {},
   "outputs": [],
   "source": [
    "vacancy.find(class_=\"bloko-link bloko-link_secondary\").text"
   ]
  },
  {
   "cell_type": "code",
   "execution_count": null,
   "metadata": {},
   "outputs": [],
   "source": [
    "vacancy.find('span', salary_tags).text"
   ]
  },
  {
   "cell_type": "code",
   "execution_count": null,
   "metadata": {},
   "outputs": [],
   "source": [
    "salaryblock = vacancy.find('span', salary_tags).text\n",
    "\n",
    "\n",
    "if salaryblock[:2] == 'от':\n",
    "    salary_min = ''.join(re.findall(r'[0-9]', salaryblock))\n",
    "    salary_max = None\n",
    "elif salaryblock[:2] == 'до':\n",
    "    salary_min = None\n",
    "    salary_max = ''.join(re.findall(r'[0-9]', salaryblock))\n",
    "else:\n",
    "    salary = salaryblock.split('-')\n",
    "    if len(salary) == 1:\n",
    "        salary_min = salary[0]\n",
    "        salary_max = salary[0]\n",
    "    else:\n",
    "        salary_min = ''.join(re.findall(r'[0-9]', salary[0]))\n",
    "        salary_max = ''.join(re.findall(r'[0-9]', salary[-1]))\n",
    "salary_min = int(salary_min)\n",
    "salary_max = int(salary_max)\n",
    "currency = salaryblock[-4:]      "
   ]
  },
  {
   "cell_type": "code",
   "execution_count": null,
   "metadata": {},
   "outputs": [],
   "source": [
    "salaryblock"
   ]
  },
  {
   "cell_type": "code",
   "execution_count": null,
   "metadata": {},
   "outputs": [],
   "source": [
    "print(salary_min)\n",
    "print(salary_max)\n",
    "print(currency)"
   ]
  },
  {
   "cell_type": "code",
   "execution_count": null,
   "metadata": {},
   "outputs": [],
   "source": [
    "type(salary_min)"
   ]
  },
  {
   "cell_type": "code",
   "execution_count": null,
   "metadata": {},
   "outputs": [],
   "source": [
    "link = vacancy.find_all('a', href=True)[0].get('href')"
   ]
  },
  {
   "cell_type": "code",
   "execution_count": null,
   "metadata": {},
   "outputs": [],
   "source": [
    "link"
   ]
  },
  {
   "cell_type": "code",
   "execution_count": null,
   "metadata": {},
   "outputs": [],
   "source": [
    "vacancy.find(class_=\"bloko-link bloko-link_secondary\").text"
   ]
  },
  {
   "cell_type": "code",
   "execution_count": null,
   "metadata": {},
   "outputs": [],
   "source": [
    "vacancy.find({'class':'bloko-link bloko-link_secondary'}).text"
   ]
  },
  {
   "cell_type": "markdown",
   "metadata": {},
   "source": [
    "# superjob"
   ]
  },
  {
   "cell_type": "code",
   "execution_count": 2,
   "metadata": {},
   "outputs": [],
   "source": [
    "from pprint import pprint\n",
    "from bs4 import BeautifulSoup as bs\n",
    "import requests\n",
    "import re\n",
    "import pandas as pd\n",
    "import time\n",
    "\n",
    "from getpage import getpage\n",
    "from name_cleener import sj_name_cleener\n",
    "\n",
    "### Временное\n",
    "vacancy_name = \"c#\"\n",
    "pg_num = 0\n",
    "###\n",
    "\n",
    "# создаем запрос и получаем ответ\n",
    "domain = 'https://www.superjob.ru'\n",
    "main_link = 'https://www.superjob.ru/vacancy/search/?keywords='\n",
    "page = str(pg_num)\n",
    "link = main_link + sj_name_cleener(vacancy_name) + '&page=' + str(page)\n",
    "print(f'Conneting to page № {pg_num}. {link}')\n",
    "bsObj = getpage(link)\n",
    "\n",
    "# создаем список элементов с названиями вакансий и  URL\n",
    "vacancy_list=[]\n",
    "url_list=[]\n",
    "\n",
    "tag = 'div'\n",
    "class_attrs = {'class':'_3mfro PlM3e _2JVkc _3LJqf'}\n",
    "vacancy_block = bsObj.findAll(tag, class_attrs)\n",
    "\n",
    "for vacancy in vacancy_block:\n",
    "    vacancy_list.append(vacancy.getText())\n",
    "    url_list.append(domain + vacancy.find('a', href=True)['href'])\n",
    "\n",
    "# создаем список работодателей\n",
    "employer_list=[]\n",
    "employer_block = bsObj.findAll(class_=employer_re)\n",
    "\n",
    "for i,employer in enumerate(employer_block):\n",
    "    employer_list.append(employer_block[i].getText())\n",
    "\n",
    "# создаем список ссылок на источник данных\n",
    "source_name_list = [domain] * 20\n",
    "\n",
    "# создаем список элементов с информациям по зарплатам\n",
    "salary_list = []\n",
    "tag = 'span'\n",
    "class_attrs = {'class':'_3mfro _2Wp8I PlM3e _2JVkc _2VHxz'}\n",
    "salary_block = bsObj.findAll(tag, class_attrs)\n",
    "\n",
    "for i,salary in enumerate(salary_block):\n",
    "    salary_list.append(salary.getText())\n",
    "    salary_list[i] = re.sub(\"\\xa0\",\"\",salary_list[i])\n",
    "\n",
    "min_salary = []\n",
    "max_salary = []\n",
    "currency_list = []\n",
    "\n",
    "for salary in salary_list:\n",
    "    if salary == 'По договорённости':\n",
    "        salary_min = None\n",
    "        salary_max = None\n",
    "        currency = None\n",
    "\n",
    "    else:\n",
    "        if salary[:2] == 'от':\n",
    "            salary_min = int(''.join(re.findall(r'[0-9]', salary)))\n",
    "            salary_max = None\n",
    "            currency = re.findall('[\\D]+$', salary)[-1]\n",
    "\n",
    "        elif salary[:2] == 'до':\n",
    "            salary_min = None\n",
    "            salary_max = int(''.join(re.findall(r'[0-9]', salary)))\n",
    "            currency = re.findall('[\\D]+$', salary)[-1]\n",
    "\n",
    "        else:\n",
    "            currency = re.findall('[\\D]+$', salary)[-1]\n",
    "            salary = re.split(r'—',salary)\n",
    "\n",
    "            if len(salary) == 1:\n",
    "                salary_min = int(''.join(re.findall(r'[0-9]', salary[0])))\n",
    "                salary_max = int(''.join(re.findall(r'[0-9]', salary[0])))\n",
    "\n",
    "            else:\n",
    "                salary_min = int(''.join(re.findall(r'[0-9]', salary[0])))\n",
    "                salary_max = int(''.join(re.findall(r'[0-9]', salary[-1])))\n",
    "      \n",
    "    min_salary.append(salary_min)\n",
    "    max_salary.append(salary_max)\n",
    "    currency_list.append(currency)\n",
    "\n",
    "# Создаем результирующий датафрейм\n",
    "df = pd.DataFrame()\n",
    "df['vacancy'] = pd.Series(vacancy_list)\n",
    "df['min_salary'] = pd.Series(min_salary)\n",
    "df['max_salary'] = pd.Series(max_salary)\n",
    "df['currency'] = pd.Series(currency_list)\n",
    "df['url'] = pd.Series(url_list)\n",
    "df['source'] = pd.Series(source_name_list)\n",
    "df['employer'] = pd.Series(employer_list)"
   ]
  },
  {
   "cell_type": "code",
   "execution_count": null,
   "metadata": {},
   "outputs": [],
   "source": []
  }
 ],
 "metadata": {
  "kernelspec": {
   "display_name": "Python 3",
   "language": "python",
   "name": "python3"
  },
  "language_info": {
   "codemirror_mode": {
    "name": "ipython",
    "version": 3
   },
   "file_extension": ".py",
   "mimetype": "text/x-python",
   "name": "python",
   "nbconvert_exporter": "python",
   "pygments_lexer": "ipython3",
   "version": "3.8.3"
  }
 },
 "nbformat": 4,
 "nbformat_minor": 4
}
